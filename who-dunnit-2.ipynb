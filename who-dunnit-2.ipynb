{
 "cells": [
  {
   "cell_type": "code",
   "execution_count": null,
   "id": "5fd8943c",
   "metadata": {
    "execution": {
     "iopub.execute_input": "2024-11-13T14:31:23.922493Z",
     "iopub.status.busy": "2024-11-13T14:31:23.922042Z",
     "iopub.status.idle": "2024-11-13T14:31:26.761859Z",
     "shell.execute_reply": "2024-11-13T14:31:26.760745Z"
    },
    "papermill": {
     "duration": 2.85344,
     "end_time": "2024-11-13T14:31:26.764673",
     "exception": false,
     "start_time": "2024-11-13T14:31:23.911233",
     "status": "completed"
    },
    "tags": []
   },
   "outputs": [],
   "source": [
    "import pandas as pd\n",
    "import matplotlib.pyplot as plt\n",
    "import seaborn as sns\n",
    "import numpy as np\n",
    "\n",
    "# Setting display parameters\n",
    "\n",
    "pd.set_option(\"display.max_columns\", 500)\n",
    "pd.set_option(\"display.width\", 1000)\n",
    "\n",
    "# Setting dataset root path:\n",
    "root_dataset = \"datasets\""
   ]
  },
  {
   "cell_type": "markdown",
   "id": "b20580b3",
   "metadata": {},
   "source": [
    "## Data Imports"
   ]
  },
  {
   "cell_type": "code",
   "execution_count": null,
   "id": "8015c5dc",
   "metadata": {
    "execution": {
     "iopub.execute_input": "2024-11-13T14:31:26.784537Z",
     "iopub.status.busy": "2024-11-13T14:31:26.783907Z",
     "iopub.status.idle": "2024-11-13T14:31:26.790059Z",
     "shell.execute_reply": "2024-11-13T14:31:26.788898Z"
    },
    "papermill": {
     "duration": 0.01876,
     "end_time": "2024-11-13T14:31:26.792537",
     "exception": false,
     "start_time": "2024-11-13T14:31:26.773777",
     "status": "completed"
    },
    "tags": []
   },
   "outputs": [],
   "source": [
    "cards_data = pd.read_csv(f\"{root_dataset}/cards_data.csv\").rename(columns={\"id\": \"card_id\"})\n",
    "users_data = pd.read_csv(f\"{root_dataset}/users_data.csv\").rename(columns={\"id\": \"client_id\"})\n",
    "transactions_data = pd.read_csv(f\"{root_dataset}/transactions_data.csv\").rename(columns={\"id\": \"transaction_id\"})\n",
    "mcc_codes = pd.read_json(f\"{root_dataset}/mcc_codes.json\", typ='series').reset_index().rename(columns={\"index\": \"mcc\", 0: \"mcc_description\"})\n",
    "train_fraud_labels = pd.read_json(f\"{root_dataset}/train_fraud_labels.json\").reset_index().rename(columns={\"index\": \"transaction_id\"})"
   ]
  },
  {
   "cell_type": "markdown",
   "id": "89c52d9d",
   "metadata": {
    "papermill": {
     "duration": 0.008336,
     "end_time": "2024-11-13T14:32:17.480439",
     "exception": false,
     "start_time": "2024-11-13T14:32:17.472103",
     "status": "completed"
    },
    "tags": []
   },
   "source": [
    "## Data Preprocessing"
   ]
  },
  {
   "cell_type": "markdown",
   "id": "fd5d7b4b",
   "metadata": {},
   "source": [
    "### Card and Users Directory"
   ]
  },
  {
   "cell_type": "code",
   "execution_count": null,
   "id": "b9bb5783",
   "metadata": {
    "execution": {
     "iopub.execute_input": "2024-11-13T14:32:17.502028Z",
     "iopub.status.busy": "2024-11-13T14:32:17.500670Z",
     "iopub.status.idle": "2024-11-13T14:32:19.301240Z",
     "shell.execute_reply": "2024-11-13T14:32:19.300053Z"
    },
    "papermill": {
     "duration": 1.815303,
     "end_time": "2024-11-13T14:32:19.304288",
     "exception": false,
     "start_time": "2024-11-13T14:32:17.488985",
     "status": "completed"
    },
    "tags": []
   },
   "outputs": [],
   "source": [
    "users_data_columns = [\"per_capita_income\", \"yearly_income\", \"total_debt\"]\n",
    "\n",
    "for col in users_data_columns:\n",
    "    users_data[col] = users_data[col].str.replace(\"$\", \"\").astype(\"float32\")\n",
    "\n",
    "cards_data[\"credit_limit\"] = cards_data[\"credit_limit\"].str.replace(\"$\", \"\").astype(\"float32\")"
   ]
  },
  {
   "cell_type": "code",
   "execution_count": null,
   "id": "070e6b8f",
   "metadata": {},
   "outputs": [],
   "source": [
    "cards_users = pd.merge(users_data, cards_data, \"inner\", \"client_id\")"
   ]
  },
  {
   "cell_type": "markdown",
   "id": "441d3f78",
   "metadata": {},
   "source": [
    "### MCC and Transactions Directory"
   ]
  },
  {
   "cell_type": "code",
   "execution_count": null,
   "id": "bdd0a8fe",
   "metadata": {},
   "outputs": [],
   "source": [
    "transactions_data[\"amount\"] = transactions_data[\"amount\"].str.replace(\"$\", \"\").astype(\"float32\")"
   ]
  },
  {
   "cell_type": "code",
   "execution_count": null,
   "id": "6b4e8e62",
   "metadata": {},
   "outputs": [],
   "source": [
    "mcc_transactions = pd.merge(mcc_codes, transactions_data, \"inner\", \"mcc\")\n",
    "mcc_transactions = pd.merge(mcc_transactions, train_fraud_labels, \"inner\", \"transaction_id\")"
   ]
  },
  {
   "cell_type": "code",
   "execution_count": null,
   "id": "0b05b096",
   "metadata": {},
   "outputs": [],
   "source": [
    "mcc_transactions.head()"
   ]
  },
  {
   "cell_type": "markdown",
   "id": "95156a1e",
   "metadata": {},
   "source": [
    "# Fraud Preprocessing"
   ]
  },
  {
   "cell_type": "code",
   "execution_count": null,
   "id": "d3390cf9",
   "metadata": {},
   "outputs": [],
   "source": [
    "fraud_df = mcc_transactions[mcc_transactions[\"target\"] == \"Yes\"].fillna(\"Unknown\").sort_values(\"client_id\")\n",
    "not_fraud_df = mcc_transactions.drop(fraud_df.index, axis=0)"
   ]
  },
  {
   "cell_type": "code",
   "execution_count": null,
   "id": "b401cbf8",
   "metadata": {},
   "outputs": [],
   "source": [
    "fraud_df[\"abs_amount_value\"] = abs(fraud_df[\"amount\"])\n",
    "unique_card_id = fraud_df[\"card_id\"].unique()\n",
    "matching_indices = []\n",
    "\n",
    "for card in unique_card_id:\n",
    "    temp_df = fraud_df[fraud_df[\"card_id\"] == card]\n",
    "    grouped = temp_df.groupby(\"abs_amount_value\")\n",
    "\n",
    "    for val, group in grouped:\n",
    "        if (group[\"amount\"] > 0).any() and (group[\"amount\"] < 0).any():\n",
    "            # Add the indices of both + and - rows\n",
    "            matching_indices.extend(group.index.tolist())\n",
    "\n"
   ]
  },
  {
   "cell_type": "code",
   "execution_count": null,
   "id": "274c4f76",
   "metadata": {},
   "outputs": [],
   "source": [
    "fraud_df = fraud_df.drop(matching_indices, axis=0)"
   ]
  },
  {
   "cell_type": "code",
   "execution_count": null,
   "id": "30f74e3f",
   "metadata": {},
   "outputs": [],
   "source": [
    "not_fraud_df[\"abs_amount_value\"] = abs(not_fraud_df[\"amount\"])\n",
    "unique_card_id = not_fraud_df[\"card_id\"].unique()\n",
    "matching_indices = []\n",
    "\n",
    "for card in unique_card_id:\n",
    "    temp_df = not_fraud_df[not_fraud_df[\"card_id\"] == card]\n",
    "    grouped = temp_df.groupby(\"abs_amount_value\")\n",
    "\n",
    "    for val, group in grouped:\n",
    "        if (group[\"amount\"] > 0).any() and (group[\"amount\"] < 0).any():\n",
    "            # Add the indices of both + and - rows\n",
    "            matching_indices.extend(group.index.tolist())\n"
   ]
  },
  {
   "cell_type": "code",
   "execution_count": null,
   "id": "36341b19",
   "metadata": {},
   "outputs": [],
   "source": [
    "not_fraud_df = not_fraud_df.drop(matching_indices, axis=0)"
   ]
  },
  {
   "cell_type": "code",
   "execution_count": null,
   "id": "2a4b641f",
   "metadata": {},
   "outputs": [],
   "source": [
    "fraud_df.to_csv(\"fraud_df.csv\")\n",
    "not_fraud_df.to_csv(\"not_fraud_df.csv\")"
   ]
  },
  {
   "cell_type": "markdown",
   "id": "60ec0583",
   "metadata": {},
   "source": [
    "# Analysis"
   ]
  },
  {
   "cell_type": "code",
   "execution_count": null,
   "id": "8bb89550",
   "metadata": {},
   "outputs": [],
   "source": [
    "analysis_fraud_df = fraud_df.merge(cards_users, 'inner', on=\"card_id\").drop(\"client_id_y\", axis=1).rename(columns={\"client_id_x\": \"client_id\"})\n",
    "analysis_not_fraud_df = not_fraud_df.merge(cards_users, \"inner\", on=\"card_id\").drop(\"client_id_y\", axis=1).rename(columns={\"client_id_x\": \"client_id\"}).fillna(\"Unknown\").drop(\"abs_amount_value\", axis=1)"
   ]
  },
  {
   "cell_type": "code",
   "execution_count": null,
   "id": "c82d8abe",
   "metadata": {},
   "outputs": [],
   "source": [
    "analysis_not_fraud_df.shape, analysis_fraud_df.shape"
   ]
  },
  {
   "cell_type": "markdown",
   "id": "2c89af3e",
   "metadata": {},
   "source": [
    "### Card Type"
   ]
  },
  {
   "cell_type": "code",
   "execution_count": null,
   "id": "a08d86af",
   "metadata": {},
   "outputs": [],
   "source": [
    "fraud_card_type_labels = analysis_fraud_df.drop_duplicates(\"card_id\")[\"card_type\"].value_counts().keys()\n",
    "fraud_card_type_values = analysis_fraud_df.drop_duplicates(\"card_id\")[\"card_type\"].value_counts().values\n",
    "\n",
    "not_fraud_card_type_labels = analysis_not_fraud_df.drop_duplicates(\"card_id\")[\"card_type\"].value_counts().keys()\n",
    "not_fraud_card_type_values = analysis_not_fraud_df.drop_duplicates(\"card_id\")[\"card_type\"].value_counts().values\n",
    "\n",
    "fig, (ax1, ax2) = plt.subplots(1, 2)\n",
    "\n",
    "fig.set_figwidth(12)\n",
    "fig.set_figheight(8)\n",
    "\n",
    "ax1.pie(not_fraud_card_type_values, labels=not_fraud_card_type_labels, autopct='%.1f%%')\n",
    "ax1.set_title(\"Not Fraud Card Type\")\n",
    "\n",
    "ax2.pie(fraud_card_type_values, labels=fraud_card_type_labels, autopct='%.1f%%')\n",
    "ax2.set_title(\"Fraud Card Type\")\n",
    "\n",
    "plt.show()"
   ]
  },
  {
   "cell_type": "markdown",
   "id": "b13cc3d6",
   "metadata": {},
   "source": [
    "### Card Brand"
   ]
  },
  {
   "cell_type": "code",
   "execution_count": null,
   "id": "4a9338aa",
   "metadata": {},
   "outputs": [],
   "source": [
    "fraud_card_type_labels = analysis_fraud_df.drop_duplicates(\"card_id\")[\"card_brand\"].value_counts().keys()\n",
    "fraud_card_type_values = analysis_fraud_df.drop_duplicates(\"card_id\")[\"card_brand\"].value_counts().values\n",
    "\n",
    "not_fraud_card_type_labels = analysis_not_fraud_df.drop_duplicates(\"card_id\")[\"card_brand\"].value_counts().keys()\n",
    "not_fraud_card_type_values = analysis_not_fraud_df.drop_duplicates(\"card_id\")[\"card_brand\"].value_counts().values\n",
    "\n",
    "fig, (ax1, ax2) = plt.subplots(1, 2)\n",
    "\n",
    "fig.set_figwidth(12)\n",
    "fig.set_figheight(8)\n",
    "\n",
    "ax1.pie(not_fraud_card_type_values, labels=not_fraud_card_type_labels, autopct='%.1f%%')\n",
    "ax1.set_title(\"Not Fraud Card Type\")\n",
    "\n",
    "ax2.pie(fraud_card_type_values, labels=fraud_card_type_labels, autopct='%.1f%%')\n",
    "ax2.set_title(\"Fraud Card Type\")\n",
    "\n",
    "plt.show()"
   ]
  },
  {
   "cell_type": "markdown",
   "id": "f0d8794b",
   "metadata": {},
   "source": [
    "### Chip Type"
   ]
  },
  {
   "cell_type": "code",
   "execution_count": null,
   "id": "a5e7d4cc",
   "metadata": {},
   "outputs": [],
   "source": [
    "fraud_card_type_labels = analysis_fraud_df[\"use_chip\"].value_counts().keys()\n",
    "fraud_card_type_values = analysis_fraud_df[\"use_chip\"].value_counts().values\n",
    "\n",
    "not_fraud_card_type_labels = analysis_not_fraud_df[\"use_chip\"].value_counts().keys()\n",
    "not_fraud_card_type_values = analysis_not_fraud_df[\"use_chip\"].value_counts().values\n",
    "\n",
    "fig, (ax1, ax2) = plt.subplots(1, 2)\n",
    "\n",
    "fig.set_figwidth(12)\n",
    "fig.set_figheight(8)\n",
    "\n",
    "ax1.pie(not_fraud_card_type_values, labels=not_fraud_card_type_labels, autopct='%.1f%%')\n",
    "ax1.set_title(\"Not Fraud Card Type\")\n",
    "\n",
    "ax2.pie(fraud_card_type_values, labels=fraud_card_type_labels, autopct='%.1f%%', colors=[\"tab:green\", \"tab:orange\", \"tab:blue\"])\n",
    "ax2.set_title(\"Fraud Card Type\")\n",
    "\n",
    "plt.show()"
   ]
  },
  {
   "cell_type": "markdown",
   "id": "77da4b49",
   "metadata": {},
   "source": [
    "### Description"
   ]
  },
  {
   "cell_type": "code",
   "execution_count": null,
   "id": "c881c4cf",
   "metadata": {},
   "outputs": [],
   "source": [
    "fraud_description = pd.DataFrame(analysis_fraud_df[\"mcc_description\"].value_counts().sort_index().reset_index()).rename(columns={\"count\": \"fraud_count\"})\n",
    "not_fraud_description = pd.DataFrame(analysis_not_fraud_df[\"mcc_description\"].value_counts().sort_index().reset_index()).rename(columns={\"count\": \"not_fraud_count\"})\n",
    "\n",
    "# Using OUTER JOIN to match both dataframes' descriptions and align them with their respective counts\n",
    "\n",
    "description_comparison = pd.merge(fraud_description, not_fraud_description, \"outer\", \"mcc_description\").fillna(\"0\")\n",
    "description_comparison[\"fraud_count\"] = description_comparison[\"fraud_count\"].astype(\"float32\")\n",
    "description_comparison[\"not_fraud_count\"] = description_comparison[\"not_fraud_count\"].astype(\"float32\")\n",
    "\n",
    "top_5_descriptions = description_comparison.sort_values(\"fraud_count\", ascending=False).reset_index(drop=True)[:5]\n",
    "\n",
    "# Visualization\n",
    "\n",
    "labels = top_5_descriptions[\"mcc_description\"].values\n",
    "fraud_description_values = top_5_descriptions[\"fraud_count\"].values\n",
    "not_fraud_description_values = top_5_descriptions[\"not_fraud_count\"].values\n",
    "\n",
    "fig, (ax1, ax2) = plt.subplots(1, 2)\n",
    "\n",
    "fig.set_figwidth(30)\n",
    "fig.set_figheight(10)\n",
    "\n",
    "ax1.pie(not_fraud_description_values, labels=labels, autopct='%.1f%%')\n",
    "ax1.set_title(\"Not Fraud Description\")\n",
    "\n",
    "ax2.pie(fraud_description_values, labels=labels, autopct='%.1f%%')\n",
    "ax2.set_title(\"Fraud Description\")\n",
    "\n",
    "plt.show()"
   ]
  },
  {
   "cell_type": "markdown",
   "id": "8bd24a58",
   "metadata": {},
   "source": [
    "### Age Distribution for Each MCC"
   ]
  },
  {
   "cell_type": "code",
   "execution_count": null,
   "id": "298556f7",
   "metadata": {},
   "outputs": [],
   "source": [
    "descs = top_5_descriptions[\"mcc_description\"].to_list()\n",
    "\n",
    "for desc in descs:\n",
    "    temp_not_fraud_age = analysis_not_fraud_df[analysis_not_fraud_df[\"mcc_description\"] == desc].drop_duplicates(\"card_id\")\n",
    "    temp_fraud_age = analysis_fraud_df[analysis_fraud_df[\"mcc_description\"] == desc].drop_duplicates(\"card_id\")\n",
    "\n",
    "    plt.title(f\"Age Distribution for {desc}\")\n",
    "    sns.kdeplot(temp_not_fraud_age, x=\"current_age\", color=\"tab:green\", label=\"Not Fraud\")\n",
    "    sns.kdeplot(temp_fraud_age, x=\"current_age\", color=\"tab:red\", label=\"Fraud\")\n",
    "    \n",
    "    plt.legend()\n",
    "    plt.show()"
   ]
  },
  {
   "cell_type": "markdown",
   "id": "e29db72d",
   "metadata": {},
   "source": [
    "### Merchant Origin"
   ]
  },
  {
   "cell_type": "code",
   "execution_count": null,
   "id": "5abbc6a9",
   "metadata": {},
   "outputs": [],
   "source": [
    "analysis_fraud_df[\"merchant_city_state\"] = analysis_fraud_df[\"merchant_city\"] + \", \" + analysis_fraud_df[\"merchant_state\"]\n",
    "analysis_not_fraud_df[\"merchant_city_state\"] = analysis_not_fraud_df[\"merchant_city\"] + \", \" + analysis_not_fraud_df[\"merchant_state\"]\n",
    "\n",
    "fraud_merchant_cities = analysis_fraud_df[\"merchant_city_state\"].value_counts()[:5]\n",
    "fraud_merchant_cities_labels = fraud_merchant_cities.keys()\n",
    "fraud_merchant_cities_values = fraud_merchant_cities.values\n",
    "\n",
    "not_fraud_merchant_cities = analysis_not_fraud_df[\"merchant_city_state\"].value_counts()[:5]\n",
    "not_fraud_merchant_cities_labels = not_fraud_merchant_cities.keys()\n",
    "not_fraud_merchant_cities_values = not_fraud_merchant_cities.values\n",
    "\n",
    "\n",
    "fig, (ax1, ax2) = plt.subplots(1, 2)\n",
    "\n",
    "fig.set_figwidth(12)\n",
    "fig.set_figheight(8)\n",
    "\n",
    "ax1.pie(not_fraud_merchant_cities_values, labels=not_fraud_merchant_cities_labels, autopct='%.1f%%')\n",
    "ax1.set_title(\"Not Fraud Merchant Cities\")\n",
    "\n",
    "ax2.pie(fraud_merchant_cities_values, labels=fraud_merchant_cities_labels, autopct='%.1f%%')\n",
    "ax2.set_title(\"Fraud Merchant Cities\")"
   ]
  },
  {
   "cell_type": "markdown",
   "id": "b60a8e2d",
   "metadata": {},
   "source": [
    "### Amount Spent"
   ]
  },
  {
   "cell_type": "code",
   "execution_count": null,
   "id": "131eb2fe",
   "metadata": {},
   "outputs": [],
   "source": [
    "sns.histplot(analysis_fraud_df, x=\"amount\")\n",
    "plt.title(\"Fraud Amount Distribution\")\n",
    "plt.show()\n",
    "sns.histplot(analysis_not_fraud_df, x=\"amount\")\n",
    "plt.title(\"Not Fraud Amount Distribution\")\n",
    "plt.show()"
   ]
  },
  {
   "cell_type": "markdown",
   "id": "dd379a04",
   "metadata": {},
   "source": [
    "### Time that Transaction Happened"
   ]
  },
  {
   "cell_type": "code",
   "execution_count": null,
   "id": "13b65147",
   "metadata": {},
   "outputs": [],
   "source": [
    "analysis_fraud_df[\"date_day\"] = pd.to_datetime(analysis_fraud_df[\"date\"]).dt.day_name()\n",
    "analysis_fraud_df[\"date_hour\"] = pd.to_datetime(analysis_fraud_df[\"date\"]).dt.hour\n",
    "analysis_fraud_df[\"date_minute\"] = pd.to_datetime(analysis_fraud_df[\"date\"]).dt.minute\n",
    "\n",
    "analysis_not_fraud_df[\"date_day\"] = pd.to_datetime(analysis_not_fraud_df[\"date\"]).dt.day_name()\n",
    "analysis_not_fraud_df[\"date_hour\"] = pd.to_datetime(analysis_not_fraud_df[\"date\"]).dt.hour\n",
    "analysis_not_fraud_df[\"date_minute\"] = pd.to_datetime(analysis_not_fraud_df[\"date\"]).dt.minute"
   ]
  },
  {
   "cell_type": "code",
   "execution_count": null,
   "id": "f961c9b9",
   "metadata": {},
   "outputs": [],
   "source": [
    "analysis_fraud_df[\"date_hour\"] = analysis_fraud_df[\"date_hour\"].astype(\"str\")\n",
    "analysis_not_fraud_df[\"date_hour\"] = analysis_not_fraud_df[\"date_hour\"].astype(\"str\")\n"
   ]
  },
  {
   "cell_type": "code",
   "execution_count": null,
   "id": "250b94ed",
   "metadata": {},
   "outputs": [],
   "source": [
    "analysis_fraud_df[\"date_day_hour\"] = analysis_fraud_df[\"date_day\"] + \", \" + analysis_fraud_df[\"date_hour\"]\n",
    "analysis_not_fraud_df[\"date_day_hour\"] = analysis_not_fraud_df[\"date_day\"] + \", \" + analysis_not_fraud_df[\"date_hour\"]"
   ]
  },
  {
   "cell_type": "markdown",
   "id": "75613da9",
   "metadata": {},
   "source": [
    "### Card Has Chip or Not"
   ]
  },
  {
   "cell_type": "code",
   "execution_count": null,
   "id": "6037b419",
   "metadata": {},
   "outputs": [],
   "source": [
    "fraud_has_chip_labels = analysis_fraud_df[\"has_chip\"].value_counts().keys()\n",
    "fraud_has_chip_values = analysis_fraud_df[\"has_chip\"].value_counts().values\n",
    "\n",
    "not_fraud_has_chip_labels = analysis_not_fraud_df[\"has_chip\"].value_counts().keys()\n",
    "not_fraud_has_chip_values = analysis_not_fraud_df[\"has_chip\"].value_counts().values\n",
    "\n",
    "fig, (ax1, ax2) = plt.subplots(1, 2)\n",
    "\n",
    "fig.set_figwidth(12)\n",
    "fig.set_figheight(8)\n",
    "\n",
    "ax1.pie(not_fraud_has_chip_values, labels=not_fraud_has_chip_labels, autopct='%.1f%%')\n",
    "ax1.set_title(\"Not Fraud Has Chip\")\n",
    "\n",
    "ax2.pie(fraud_has_chip_values, labels=fraud_has_chip_labels, autopct='%.1f%%')\n",
    "ax2.set_title(\"Fraud Has Chip\")\n",
    "\n",
    "plt.show()"
   ]
  },
  {
   "cell_type": "code",
   "execution_count": null,
   "id": "025a6034",
   "metadata": {},
   "outputs": [],
   "source": [
    "unnecessary_columns = ['current_age','retirement_age','birth_year','birth_month','gender','zip','errors','acct_open_date','year_pin_last_changed','card_on_dark_web','cvv','expires','card_number','num_cards_issued', 'credit_limit', 'total_debt', 'latitude','longitude','per_capita_income','yearly_income','credit_score','num_credit_cards','card_brand', 'merchant_city', 'merchant_state', 'date', 'address', 'has_chip', 'mcc', 'client_id', 'card_id', 'merchant_id', 'card_type', 'transaction_id']"
   ]
  },
  {
   "cell_type": "code",
   "execution_count": null,
   "id": "46dafd72",
   "metadata": {},
   "outputs": [],
   "source": [
    "analysis_fraud_df = analysis_fraud_df.drop(unnecessary_columns, axis=1).drop(\"abs_amount_value\", axis=1)"
   ]
  },
  {
   "cell_type": "code",
   "execution_count": null,
   "id": "85e483a3",
   "metadata": {},
   "outputs": [],
   "source": [
    "analysis_not_fraud_df = analysis_not_fraud_df.drop(unnecessary_columns, axis=1)"
   ]
  },
  {
   "cell_type": "markdown",
   "id": "ac476087",
   "metadata": {},
   "source": [
    "## Machine Learning Analysis"
   ]
  },
  {
   "cell_type": "markdown",
   "id": "afaad7d3",
   "metadata": {},
   "source": [
    "### Sampling"
   ]
  },
  {
   "cell_type": "code",
   "execution_count": null,
   "id": "9b94ed60",
   "metadata": {},
   "outputs": [],
   "source": [
    "# Step 1: Set your stratification columns\n",
    "stratify_cols = ['mcc_description', 'use_chip']\n",
    "\n",
    "# Step 2: Size of the fraud dataset\n",
    "target_sample_size = len(analysis_fraud_df)\n",
    "\n",
    "# Step 3: Count group proportions in the NOT fraud dataset\n",
    "grouped = analysis_not_fraud_df.groupby(stratify_cols).size().reset_index(name='count')\n",
    "grouped['proportion'] = grouped['count'] / grouped['count'].sum()\n",
    "grouped['sample_size'] = (grouped['proportion'] * target_sample_size).round().astype(int)\n",
    "\n",
    "# Step 4: Merge back sample sizes into main dataset for fast filtering\n",
    "analysis_not_fraud_df = analysis_not_fraud_df.merge(grouped, on=stratify_cols, how='inner')\n",
    "\n",
    "# Step 5: Sample from each group efficiently\n",
    "sampled_df = (\n",
    "    analysis_not_fraud_df\n",
    "    .groupby(stratify_cols)\n",
    "    .apply(lambda x: x.sample(n=min(len(x), x['sample_size'].iloc[0]), random_state=42))\n",
    "    .reset_index(drop=True)\n",
    ")\n",
    "\n",
    "# Step 6: If total sampled is less than required, top-up with random rows\n",
    "n_needed = target_sample_size - len(sampled_df)\n",
    "\n",
    "if n_needed > 0:\n",
    "    # Drop sampled rows from original not-fraud df (to avoid duplicates)\n",
    "    sampled_ids = sampled_df.index\n",
    "    remaining = analysis_not_fraud_df.drop(index=sampled_ids, errors='ignore')\n",
    "\n",
    "    # Sample the remaining rows\n",
    "    filler = remaining.sample(n=n_needed, random_state=42)\n",
    "    \n",
    "    # Combine with the main sample\n",
    "    sampled_df = pd.concat([sampled_df, filler], ignore_index=True)\n",
    "\n",
    "# Confirm final row count\n",
    "print(f\"✅ Final sampled rows: {len(sampled_df)}\")\n",
    "\n",
    "sampled_analysis_not_fraud_df = sampled_df.drop(columns=['count', 'proportion', 'sample_size'])\n"
   ]
  },
  {
   "cell_type": "code",
   "execution_count": 119,
   "id": "c335865b",
   "metadata": {},
   "outputs": [
    {
     "name": "stdout",
     "output_type": "stream",
     "text": [
      "\n",
      "📊 Proportions in original NOT fraud dataset:\n",
      "\n",
      "mcc_description proportions:\n",
      "mcc_description\n",
      "Accounting, Auditing, and Bookkeeping Services    0.000297\n",
      "Airlines                                          0.000237\n",
      "Amusement Parks, Carnivals, Circuses              0.000962\n",
      "Antique Shops                                     0.000492\n",
      "Artist Supply Stores, Craft Shops                 0.005709\n",
      "                                                    ...   \n",
      "Upholstery and Drapery Stores                     0.000237\n",
      "Utilities - Electric, Gas, Water, Sanitary        0.020508\n",
      "Welding Repair                                    0.000395\n",
      "Wholesale Clubs                                   0.050803\n",
      "Women's Ready-To-Wear Stores                      0.000871\n",
      "Name: proportion, Length: 108, dtype: float64\n",
      "\n",
      "use_chip proportions:\n",
      "use_chip\n",
      "Chip Transaction      0.353933\n",
      "Online Transaction    0.129970\n",
      "Swipe Transaction     0.516097\n",
      "Name: proportion, dtype: float64\n",
      "\n",
      "📊 Proportions in sampled NOT fraud dataset:\n",
      "\n",
      "mcc_description proportions:\n",
      "mcc_description\n",
      "Accounting, Auditing, and Bookkeeping Services    0.000315\n",
      "Airlines                                          0.000237\n",
      "Amusement Parks, Carnivals, Circuses              0.000946\n",
      "Antique Shops                                     0.000552\n",
      "Artist Supply Stores, Craft Shops                 0.005679\n",
      "                                                    ...   \n",
      "Upholstery and Drapery Stores                     0.000237\n",
      "Utilities - Electric, Gas, Water, Sanitary        0.020506\n",
      "Welding Repair                                    0.000394\n",
      "Wholesale Clubs                                   0.050950\n",
      "Women's Ready-To-Wear Stores                      0.000946\n",
      "Name: proportion, Length: 98, dtype: float64\n",
      "\n",
      "use_chip proportions:\n",
      "use_chip\n",
      "Chip Transaction      0.353656\n",
      "Online Transaction    0.129979\n",
      "Swipe Transaction     0.516366\n",
      "Name: proportion, dtype: float64\n"
     ]
    }
   ],
   "source": [
    "# Function to calculate and display value proportions\n",
    "def show_proportions(df, cols, label):\n",
    "    print(f\"\\n📊 Proportions in {label} dataset:\")\n",
    "    for col in cols:\n",
    "        print(f\"\\n{col} proportions:\")\n",
    "        print(df[col].value_counts(normalize=True).sort_index())\n",
    "\n",
    "# Original (full) not-fraud dataset proportions\n",
    "show_proportions(analysis_not_fraud_df, stratify_cols, \"original NOT fraud\")\n",
    "\n",
    "# Sampled not-fraud dataset proportions\n",
    "show_proportions(sampled_analysis_not_fraud_df, stratify_cols, \"sampled NOT fraud\")\n"
   ]
  },
  {
   "cell_type": "code",
   "execution_count": null,
   "id": "4fbf9ae9",
   "metadata": {},
   "outputs": [],
   "source": [
    "combined_dataset = pd.concat([analysis_fraud_df, sampled_analysis_not_fraud_df], ignore_index=True).sample(frac=1).reset_index(drop=True)"
   ]
  },
  {
   "cell_type": "code",
   "execution_count": null,
   "id": "680e50d0",
   "metadata": {},
   "outputs": [],
   "source": [
    "combined_dataset_copy = combined_dataset.copy()"
   ]
  },
  {
   "cell_type": "code",
   "execution_count": null,
   "id": "772c4bb2",
   "metadata": {},
   "outputs": [],
   "source": [
    "combined_dataset_copy.head()"
   ]
  },
  {
   "cell_type": "code",
   "execution_count": null,
   "id": "4c584daf",
   "metadata": {},
   "outputs": [],
   "source": [
    "dummy_use_chip_df = pd.get_dummies(combined_dataset_copy[\"use_chip\"], drop_first=True, prefix=\"use_chip\")\n",
    "combined_dataset_copy = pd.concat([combined_dataset_copy, dummy_use_chip_df], axis=1).drop(\"use_chip\", axis=1)"
   ]
  },
  {
   "cell_type": "code",
   "execution_count": null,
   "id": "f3b862f6",
   "metadata": {},
   "outputs": [],
   "source": [
    "combined_dataset_copy[\"target\"] = combined_dataset_copy[\"target\"].apply(lambda x: 0 if x == \"No\" else 1)\n",
    "combined_dataset_copy[\"use_chip_Online Transaction\"] = combined_dataset_copy[\"use_chip_Online Transaction\"].astype(\"int\")\n",
    "combined_dataset_copy[\"use_chip_Swipe Transaction\"] = combined_dataset_copy[\"use_chip_Swipe Transaction\"].astype(\"int\")"
   ]
  },
  {
   "cell_type": "code",
   "execution_count": null,
   "id": "9c4a30be",
   "metadata": {},
   "outputs": [],
   "source": [
    "target_mean = combined_dataset_copy.groupby(\"mcc_description\")[\"target\"].mean()\n",
    "combined_dataset_copy[\"mcc_description\"] = combined_dataset_copy[\"mcc_description\"].map(target_mean)"
   ]
  },
  {
   "cell_type": "code",
   "execution_count": null,
   "id": "b269f783",
   "metadata": {},
   "outputs": [],
   "source": [
    "target_mean_mcs = combined_dataset_copy.groupby(\"merchant_city_state\")[\"target\"].mean()\n",
    "combined_dataset_copy[\"merchant_city_state\"] = combined_dataset_copy[\"merchant_city_state\"].map(target_mean_mcs)"
   ]
  },
  {
   "cell_type": "code",
   "execution_count": null,
   "id": "eeaac712",
   "metadata": {},
   "outputs": [],
   "source": [
    "from sklearn.preprocessing import MinMaxScaler\n",
    "\n",
    "columns_to_normalize = [\"mcc_description\", \"amount\", \"merchant_city_state\"]\n",
    "\n",
    "scaler = MinMaxScaler()\n",
    "combined_dataset_copy[columns_to_normalize] = scaler.fit_transform(combined_dataset_copy[columns_to_normalize])"
   ]
  },
  {
   "cell_type": "code",
   "execution_count": 114,
   "id": "a3a1db70",
   "metadata": {},
   "outputs": [
    {
     "name": "stdout",
     "output_type": "stream",
     "text": [
      "[[3943  245]\n",
      " [ 120 4061]]\n",
      "              precision    recall  f1-score   support\n",
      "\n",
      "          No       0.97      0.94      0.96      4188\n",
      "         Yes       0.94      0.97      0.96      4181\n",
      "\n",
      "    accuracy                           0.96      8369\n",
      "   macro avg       0.96      0.96      0.96      8369\n",
      "weighted avg       0.96      0.96      0.96      8369\n",
      "\n",
      "0.9563866650734855\n"
     ]
    }
   ],
   "source": [
    "from sklearn.model_selection import train_test_split\n",
    "from sklearn.linear_model import LogisticRegression\n",
    "from sklearn.metrics import confusion_matrix, classification_report, accuracy_score\n",
    "\n",
    "X = combined_dataset_copy.drop(\"target\", axis=1)\n",
    "y = combined_dataset[\"target\"]\n",
    "\n",
    "X_train, X_test, y_train, y_test = train_test_split(X, y, test_size=0.33, random_state=42)\n",
    "\n",
    "logr = LogisticRegression()\n",
    "\n",
    "logr.fit(X_train, y_train)\n",
    "\n",
    "predictions = logr.predict(X_test)\n",
    "print(confusion_matrix(y_test, predictions))\n",
    "print(classification_report(y_test, predictions))\n",
    "print(accuracy_score(y_test, predictions))"
   ]
  },
  {
   "cell_type": "code",
   "execution_count": 113,
   "id": "4375345b",
   "metadata": {},
   "outputs": [
    {
     "name": "stdout",
     "output_type": "stream",
     "text": [
      "[[4014  174]\n",
      " [ 194 3987]]\n",
      "              precision    recall  f1-score   support\n",
      "\n",
      "          No       0.95      0.96      0.96      4188\n",
      "         Yes       0.96      0.95      0.96      4181\n",
      "\n",
      "    accuracy                           0.96      8369\n",
      "   macro avg       0.96      0.96      0.96      8369\n",
      "weighted avg       0.96      0.96      0.96      8369\n",
      "\n",
      "0.9560281993069661\n"
     ]
    }
   ],
   "source": [
    "from sklearn.tree import DecisionTreeClassifier\n",
    "\n",
    "dtc = DecisionTreeClassifier()\n",
    "dtc.fit(X_train, y_train)\n",
    "\n",
    "predictions_dtc = dtc.predict(X_test)\n",
    "print(confusion_matrix(y_test, predictions_dtc))\n",
    "print(classification_report(y_test, predictions_dtc))\n",
    "print(accuracy_score(y_test, predictions_dtc))"
   ]
  },
  {
   "cell_type": "code",
   "execution_count": 115,
   "id": "87d7da4a",
   "metadata": {},
   "outputs": [
    {
     "name": "stdout",
     "output_type": "stream",
     "text": [
      "[[4058  130]\n",
      " [ 188 3993]]\n",
      "              precision    recall  f1-score   support\n",
      "\n",
      "          No       0.96      0.97      0.96      4188\n",
      "         Yes       0.97      0.96      0.96      4181\n",
      "\n",
      "    accuracy                           0.96      8369\n",
      "   macro avg       0.96      0.96      0.96      8369\n",
      "weighted avg       0.96      0.96      0.96      8369\n",
      "\n",
      "0.9620026287489545\n"
     ]
    }
   ],
   "source": [
    "from sklearn.ensemble import RandomForestClassifier\n",
    "\n",
    "rfc = RandomForestClassifier()\n",
    "rfc.fit(X_train, y_train)\n",
    "\n",
    "predictions_rfc = rfc.predict(X_test)\n",
    "\n",
    "print(confusion_matrix(y_test, predictions_rfc))\n",
    "print(classification_report(y_test, predictions_rfc))\n",
    "print(accuracy_score(y_test, predictions_rfc))"
   ]
  },
  {
   "cell_type": "code",
   "execution_count": 118,
   "id": "2099b46d",
   "metadata": {},
   "outputs": [
    {
     "data": {
      "text/plain": [
       "<BarContainer object of 5 artists>"
      ]
     },
     "execution_count": 118,
     "metadata": {},
     "output_type": "execute_result"
    },
    {
     "data": {
      "image/png": "[encoded data removed]",
      "text/plain": [
       "<Figure size 1200x800 with 1 Axes>"
      ]
     },
     "metadata": {},
     "output_type": "display_data"
    }
   ],
   "source": [
    "importances = rfc.feature_importances_\n",
    "feature_imp_df = pd.DataFrame({\"Features\": X_train.columns, \"importance\": importances})\n",
    "\n",
    "plt.figure(figsize=(12, 8))\n",
    "plt.barh(X_train.columns, importances, color=\"skyblue\")"
   ]
  },
  {
   "cell_type": "code",
   "execution_count": null,
   "id": "9c5410e5",
   "metadata": {},
   "outputs": [],
   "source": []
  }
 ],
 "metadata": {
  "kaggle": {
   "accelerator": "none",
   "dataSources": [
    {
     "datasetId": 5988050,
     "sourceId": 9775239,
     "sourceType": "datasetVersion"
    }
   ],
   "dockerImageVersionId": 30786,
   "isGpuEnabled": false,
   "isInternetEnabled": true,
   "language": "python",
   "sourceType": "notebook"
  },
  "kernelspec": {
   "display_name": ".venv",
   "language": "python",
   "name": "python3"
  },
  "language_info": {
   "codemirror_mode": {
    "name": "ipython",
    "version": 3
   },
   "file_extension": ".py",
   "mimetype": "text/x-python",
   "name": "python",
   "nbconvert_exporter": "python",
   "pygments_lexer": "ipython3",
   "version": "3.10.16"
  },
  "papermill": {
   "default_parameters": {},
   "duration": 138.281928,
   "end_time": "2024-11-13T14:33:39.126739",
   "environment_variables": {},
   "exception": null,
   "input_path": "__notebook__.ipynb",
   "output_path": "__notebook__.ipynb",
   "parameters": {},
   "start_time": "2024-11-13T14:31:20.844811",
   "version": "2.6.0"
  }
 },
 "nbformat": 4,
 "nbformat_minor": 5
}
