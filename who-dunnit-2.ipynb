{
 "cells": [
  {
   "cell_type": "code",
   "execution_count": 1,
   "id": "5fd8943c",
   "metadata": {
    "execution": {
     "iopub.execute_input": "2024-11-13T14:31:23.922493Z",
     "iopub.status.busy": "2024-11-13T14:31:23.922042Z",
     "iopub.status.idle": "2024-11-13T14:31:26.761859Z",
     "shell.execute_reply": "2024-11-13T14:31:26.760745Z"
    },
    "papermill": {
     "duration": 2.85344,
     "end_time": "2024-11-13T14:31:26.764673",
     "exception": false,
     "start_time": "2024-11-13T14:31:23.911233",
     "status": "completed"
    },
    "tags": []
   },
   "outputs": [],
   "source": [
    "import pandas as pd\n",
    "import matplotlib.pyplot as plt\n",
    "import seaborn as sns"
   ]
  },
  {
   "cell_type": "code",
   "execution_count": null,
   "id": "8015c5dc",
   "metadata": {
    "execution": {
     "iopub.execute_input": "2024-11-13T14:31:26.784537Z",
     "iopub.status.busy": "2024-11-13T14:31:26.783907Z",
     "iopub.status.idle": "2024-11-13T14:31:26.790059Z",
     "shell.execute_reply": "2024-11-13T14:31:26.788898Z"
    },
    "papermill": {
     "duration": 0.01876,
     "end_time": "2024-11-13T14:31:26.792537",
     "exception": false,
     "start_time": "2024-11-13T14:31:26.773777",
     "status": "completed"
    },
    "tags": []
   },
   "outputs": [],
   "source": [
    "# Setting display parameters\n",
    "\n",
    "pd.set_option(\"display.max_columns\", 500)\n",
    "pd.set_option(\"display.width\", 1000)\n",
    "\n",
    "# Setting dataset root path:\n",
    "root_dataset = \"datasets\" # if you want to work on your own  chbge[fiusdhgfblidsugf]"
   ]
  },
  {
   "cell_type": "markdown",
   "id": "58a60cc1",
   "metadata": {},
   "source": [
    "# Preprocessing"
   ]
  },
  {
   "cell_type": "markdown",
   "id": "580439ae",
   "metadata": {
    "papermill": {
     "duration": 0.008227,
     "end_time": "2024-11-13T14:31:26.809320",
     "exception": false,
     "start_time": "2024-11-13T14:31:26.801093",
     "status": "completed"
    },
    "tags": []
   },
   "source": [
    "## Data Imports"
   ]
  },
  {
   "cell_type": "code",
   "execution_count": 3,
   "id": "0eebfe34",
   "metadata": {
    "execution": {
     "iopub.execute_input": "2024-11-13T14:31:26.828833Z",
     "iopub.status.busy": "2024-11-13T14:31:26.827697Z",
     "iopub.status.idle": "2024-11-13T14:32:17.459750Z",
     "shell.execute_reply": "2024-11-13T14:32:17.458497Z"
    },
    "papermill": {
     "duration": 50.645083,
     "end_time": "2024-11-13T14:32:17.462917",
     "exception": false,
     "start_time": "2024-11-13T14:31:26.817834",
     "status": "completed"
    },
    "tags": []
   },
   "outputs": [],
   "source": [
    "df_cards = pd.read_csv(f\"{root_dataset}/cards_data.csv\")\n",
    "df_users = pd.read_csv(f\"{root_dataset}/users_data.csv\")\n",
    "transaction_df = pd.read_csv(f\"{root_dataset}/transactions_data.csv\")\n",
    "mcc_df = pd.read_json(f\"{root_dataset}/mcc_codes.json\", typ='series').reset_index().rename(columns={\"index\": \"mcc\", 0: \"description\"})\n",
    "train_df = pd.read_json(f\"{root_dataset}/train_fraud_labels.json\").reset_index().rename(columns={\"index\": \"id\"})"
   ]
  },
  {
   "cell_type": "markdown",
   "id": "89c52d9d",
   "metadata": {
    "papermill": {
     "duration": 0.008336,
     "end_time": "2024-11-13T14:32:17.480439",
     "exception": false,
     "start_time": "2024-11-13T14:32:17.472103",
     "status": "completed"
    },
    "tags": []
   },
   "source": [
    "## Data Preprocessing"
   ]
  },
  {
   "cell_type": "markdown",
   "id": "fd5d7b4b",
   "metadata": {},
   "source": [
    "### Card and Users Directory"
   ]
  },
  {
   "cell_type": "code",
   "execution_count": 4,
   "id": "b9bb5783",
   "metadata": {
    "execution": {
     "iopub.execute_input": "2024-11-13T14:32:17.502028Z",
     "iopub.status.busy": "2024-11-13T14:32:17.500670Z",
     "iopub.status.idle": "2024-11-13T14:32:19.301240Z",
     "shell.execute_reply": "2024-11-13T14:32:19.300053Z"
    },
    "papermill": {
     "duration": 1.815303,
     "end_time": "2024-11-13T14:32:19.304288",
     "exception": false,
     "start_time": "2024-11-13T14:32:17.488985",
     "status": "completed"
    },
    "tags": []
   },
   "outputs": [],
   "source": [
    "columns = [\"per_capita_income\", \"yearly_income\", \"total_debt\"]\n",
    "\n",
    "for col in columns:\n",
    "    df_users[col] = df_users[col].str.replace(\"$\", \"\").astype(\"float32\")"
   ]
  },
  {
   "cell_type": "code",
   "execution_count": 5,
   "id": "9b496fba",
   "metadata": {},
   "outputs": [],
   "source": [
    "cards_users = df_cards.join(df_users.rename(columns={\"id\": \"client_id\"}).set_index(\"client_id\"), on=\"client_id\", how=\"left\", lsuffix=\"left\", rsuffix=\"right\").rename(columns={\"id\": \"card_id\"})"
   ]
  },
  {
   "cell_type": "code",
   "execution_count": 6,
   "id": "49d55430",
   "metadata": {},
   "outputs": [
    {
     "data": {
      "application/vnd.microsoft.datawrangler.viewer.v0+json": {
       "columns": [
        {
         "name": "index",
         "rawType": "int64",
         "type": "integer"
        },
        {
         "name": "card_id",
         "rawType": "int64",
         "type": "integer"
        },
        {
         "name": "client_id",
         "rawType": "int64",
         "type": "integer"
        },
        {
         "name": "card_brand",
         "rawType": "object",
         "type": "string"
        },
        {
         "name": "card_type",
         "rawType": "object",
         "type": "string"
        },
        {
         "name": "card_number",
         "rawType": "int64",
         "type": "integer"
        },
        {
         "name": "expires",
         "rawType": "object",
         "type": "string"
        },
        {
         "name": "cvv",
         "rawType": "int64",
         "type": "integer"
        },
        {
         "name": "has_chip",
         "rawType": "object",
         "type": "string"
        },
        {
         "name": "num_cards_issued",
         "rawType": "int64",
         "type": "integer"
        },
        {
         "name": "credit_limit",
         "rawType": "object",
         "type": "string"
        },
        {
         "name": "acct_open_date",
         "rawType": "object",
         "type": "string"
        },
        {
         "name": "year_pin_last_changed",
         "rawType": "int64",
         "type": "integer"
        },
        {
         "name": "card_on_dark_web",
         "rawType": "object",
         "type": "string"
        },
        {
         "name": "current_age",
         "rawType": "int64",
         "type": "integer"
        },
        {
         "name": "retirement_age",
         "rawType": "int64",
         "type": "integer"
        },
        {
         "name": "birth_year",
         "rawType": "int64",
         "type": "integer"
        },
        {
         "name": "birth_month",
         "rawType": "int64",
         "type": "integer"
        },
        {
         "name": "gender",
         "rawType": "object",
         "type": "string"
        },
        {
         "name": "address",
         "rawType": "object",
         "type": "string"
        },
        {
         "name": "latitude",
         "rawType": "float64",
         "type": "float"
        },
        {
         "name": "longitude",
         "rawType": "float64",
         "type": "float"
        },
        {
         "name": "per_capita_income",
         "rawType": "float32",
         "type": "float"
        },
        {
         "name": "yearly_income",
         "rawType": "float32",
         "type": "float"
        },
        {
         "name": "total_debt",
         "rawType": "float32",
         "type": "float"
        },
        {
         "name": "credit_score",
         "rawType": "int64",
         "type": "integer"
        },
        {
         "name": "num_credit_cards",
         "rawType": "int64",
         "type": "integer"
        }
       ],
       "ref": "e6881049-81d3-4dc8-9b4f-3e9f404a5f1a",
       "rows": [
        [
         "0",
         "4524",
         "825",
         "Visa",
         "Debit",
         "4344676511950444",
         "12/2022",
         "623",
         "YES",
         "2",
         "$24295",
         "09/2002",
         "2008",
         "No",
         "53",
         "66",
         "1966",
         "11",
         "Female",
         "462 Rose Lane",
         "34.15",
         "-117.76",
         "29278.0",
         "59696.0",
         "127613.0",
         "787",
         "5"
        ],
        [
         "1",
         "2731",
         "825",
         "Visa",
         "Debit",
         "4956965974959986",
         "12/2020",
         "393",
         "YES",
         "2",
         "$21968",
         "04/2014",
         "2014",
         "No",
         "53",
         "66",
         "1966",
         "11",
         "Female",
         "462 Rose Lane",
         "34.15",
         "-117.76",
         "29278.0",
         "59696.0",
         "127613.0",
         "787",
         "5"
        ],
        [
         "2",
         "3701",
         "825",
         "Visa",
         "Debit",
         "4582313478255491",
         "02/2024",
         "719",
         "YES",
         "2",
         "$46414",
         "07/2003",
         "2004",
         "No",
         "53",
         "66",
         "1966",
         "11",
         "Female",
         "462 Rose Lane",
         "34.15",
         "-117.76",
         "29278.0",
         "59696.0",
         "127613.0",
         "787",
         "5"
        ],
        [
         "3",
         "42",
         "825",
         "Visa",
         "Credit",
         "4879494103069057",
         "08/2024",
         "693",
         "NO",
         "1",
         "$12400",
         "01/2003",
         "2012",
         "No",
         "53",
         "66",
         "1966",
         "11",
         "Female",
         "462 Rose Lane",
         "34.15",
         "-117.76",
         "29278.0",
         "59696.0",
         "127613.0",
         "787",
         "5"
        ],
        [
         "4",
         "4659",
         "825",
         "Mastercard",
         "Debit (Prepaid)",
         "5722874738736011",
         "03/2009",
         "75",
         "YES",
         "1",
         "$28",
         "09/2008",
         "2009",
         "No",
         "53",
         "66",
         "1966",
         "11",
         "Female",
         "462 Rose Lane",
         "34.15",
         "-117.76",
         "29278.0",
         "59696.0",
         "127613.0",
         "787",
         "5"
        ]
       ],
       "shape": {
        "columns": 26,
        "rows": 5
       }
      },
      "text/html": [
       "<div>\n",
       "<style scoped>\n",
       "    .dataframe tbody tr th:only-of-type {\n",
       "        vertical-align: middle;\n",
       "    }\n",
       "\n",
       "    .dataframe tbody tr th {\n",
       "        vertical-align: top;\n",
       "    }\n",
       "\n",
       "    .dataframe thead th {\n",
       "        text-align: right;\n",
       "    }\n",
       "</style>\n",
       "<table border=\"1\" class=\"dataframe\">\n",
       "  <thead>\n",
       "    <tr style=\"text-align: right;\">\n",
       "      <th></th>\n",
       "      <th>card_id</th>\n",
       "      <th>client_id</th>\n",
       "      <th>card_brand</th>\n",
       "      <th>card_type</th>\n",
       "      <th>card_number</th>\n",
       "      <th>expires</th>\n",
       "      <th>cvv</th>\n",
       "      <th>has_chip</th>\n",
       "      <th>num_cards_issued</th>\n",
       "      <th>credit_limit</th>\n",
       "      <th>acct_open_date</th>\n",
       "      <th>year_pin_last_changed</th>\n",
       "      <th>card_on_dark_web</th>\n",
       "      <th>current_age</th>\n",
       "      <th>retirement_age</th>\n",
       "      <th>birth_year</th>\n",
       "      <th>birth_month</th>\n",
       "      <th>gender</th>\n",
       "      <th>address</th>\n",
       "      <th>latitude</th>\n",
       "      <th>longitude</th>\n",
       "      <th>per_capita_income</th>\n",
       "      <th>yearly_income</th>\n",
       "      <th>total_debt</th>\n",
       "      <th>credit_score</th>\n",
       "      <th>num_credit_cards</th>\n",
       "    </tr>\n",
       "  </thead>\n",
       "  <tbody>\n",
       "    <tr>\n",
       "      <th>0</th>\n",
       "      <td>4524</td>\n",
       "      <td>825</td>\n",
       "      <td>Visa</td>\n",
       "      <td>Debit</td>\n",
       "      <td>4344676511950444</td>\n",
       "      <td>12/2022</td>\n",
       "      <td>623</td>\n",
       "      <td>YES</td>\n",
       "      <td>2</td>\n",
       "      <td>$24295</td>\n",
       "      <td>09/2002</td>\n",
       "      <td>2008</td>\n",
       "      <td>No</td>\n",
       "      <td>53</td>\n",
       "      <td>66</td>\n",
       "      <td>1966</td>\n",
       "      <td>11</td>\n",
       "      <td>Female</td>\n",
       "      <td>462 Rose Lane</td>\n",
       "      <td>34.15</td>\n",
       "      <td>-117.76</td>\n",
       "      <td>29278.0</td>\n",
       "      <td>59696.0</td>\n",
       "      <td>127613.0</td>\n",
       "      <td>787</td>\n",
       "      <td>5</td>\n",
       "    </tr>\n",
       "    <tr>\n",
       "      <th>1</th>\n",
       "      <td>2731</td>\n",
       "      <td>825</td>\n",
       "      <td>Visa</td>\n",
       "      <td>Debit</td>\n",
       "      <td>4956965974959986</td>\n",
       "      <td>12/2020</td>\n",
       "      <td>393</td>\n",
       "      <td>YES</td>\n",
       "      <td>2</td>\n",
       "      <td>$21968</td>\n",
       "      <td>04/2014</td>\n",
       "      <td>2014</td>\n",
       "      <td>No</td>\n",
       "      <td>53</td>\n",
       "      <td>66</td>\n",
       "      <td>1966</td>\n",
       "      <td>11</td>\n",
       "      <td>Female</td>\n",
       "      <td>462 Rose Lane</td>\n",
       "      <td>34.15</td>\n",
       "      <td>-117.76</td>\n",
       "      <td>29278.0</td>\n",
       "      <td>59696.0</td>\n",
       "      <td>127613.0</td>\n",
       "      <td>787</td>\n",
       "      <td>5</td>\n",
       "    </tr>\n",
       "    <tr>\n",
       "      <th>2</th>\n",
       "      <td>3701</td>\n",
       "      <td>825</td>\n",
       "      <td>Visa</td>\n",
       "      <td>Debit</td>\n",
       "      <td>4582313478255491</td>\n",
       "      <td>02/2024</td>\n",
       "      <td>719</td>\n",
       "      <td>YES</td>\n",
       "      <td>2</td>\n",
       "      <td>$46414</td>\n",
       "      <td>07/2003</td>\n",
       "      <td>2004</td>\n",
       "      <td>No</td>\n",
       "      <td>53</td>\n",
       "      <td>66</td>\n",
       "      <td>1966</td>\n",
       "      <td>11</td>\n",
       "      <td>Female</td>\n",
       "      <td>462 Rose Lane</td>\n",
       "      <td>34.15</td>\n",
       "      <td>-117.76</td>\n",
       "      <td>29278.0</td>\n",
       "      <td>59696.0</td>\n",
       "      <td>127613.0</td>\n",
       "      <td>787</td>\n",
       "      <td>5</td>\n",
       "    </tr>\n",
       "    <tr>\n",
       "      <th>3</th>\n",
       "      <td>42</td>\n",
       "      <td>825</td>\n",
       "      <td>Visa</td>\n",
       "      <td>Credit</td>\n",
       "      <td>4879494103069057</td>\n",
       "      <td>08/2024</td>\n",
       "      <td>693</td>\n",
       "      <td>NO</td>\n",
       "      <td>1</td>\n",
       "      <td>$12400</td>\n",
       "      <td>01/2003</td>\n",
       "      <td>2012</td>\n",
       "      <td>No</td>\n",
       "      <td>53</td>\n",
       "      <td>66</td>\n",
       "      <td>1966</td>\n",
       "      <td>11</td>\n",
       "      <td>Female</td>\n",
       "      <td>462 Rose Lane</td>\n",
       "      <td>34.15</td>\n",
       "      <td>-117.76</td>\n",
       "      <td>29278.0</td>\n",
       "      <td>59696.0</td>\n",
       "      <td>127613.0</td>\n",
       "      <td>787</td>\n",
       "      <td>5</td>\n",
       "    </tr>\n",
       "    <tr>\n",
       "      <th>4</th>\n",
       "      <td>4659</td>\n",
       "      <td>825</td>\n",
       "      <td>Mastercard</td>\n",
       "      <td>Debit (Prepaid)</td>\n",
       "      <td>5722874738736011</td>\n",
       "      <td>03/2009</td>\n",
       "      <td>75</td>\n",
       "      <td>YES</td>\n",
       "      <td>1</td>\n",
       "      <td>$28</td>\n",
       "      <td>09/2008</td>\n",
       "      <td>2009</td>\n",
       "      <td>No</td>\n",
       "      <td>53</td>\n",
       "      <td>66</td>\n",
       "      <td>1966</td>\n",
       "      <td>11</td>\n",
       "      <td>Female</td>\n",
       "      <td>462 Rose Lane</td>\n",
       "      <td>34.15</td>\n",
       "      <td>-117.76</td>\n",
       "      <td>29278.0</td>\n",
       "      <td>59696.0</td>\n",
       "      <td>127613.0</td>\n",
       "      <td>787</td>\n",
       "      <td>5</td>\n",
       "    </tr>\n",
       "  </tbody>\n",
       "</table>\n",
       "</div>"
      ],
      "text/plain": [
       "   card_id  client_id  card_brand        card_type       card_number  expires  cvv has_chip  num_cards_issued credit_limit acct_open_date  year_pin_last_changed card_on_dark_web  current_age  retirement_age  birth_year  birth_month  gender        address  latitude  longitude  per_capita_income  yearly_income  total_debt  credit_score  num_credit_cards\n",
       "0     4524        825        Visa            Debit  4344676511950444  12/2022  623      YES                 2       $24295        09/2002                   2008               No           53              66        1966           11  Female  462 Rose Lane     34.15    -117.76            29278.0        59696.0    127613.0           787                 5\n",
       "1     2731        825        Visa            Debit  4956965974959986  12/2020  393      YES                 2       $21968        04/2014                   2014               No           53              66        1966           11  Female  462 Rose Lane     34.15    -117.76            29278.0        59696.0    127613.0           787                 5\n",
       "2     3701        825        Visa            Debit  4582313478255491  02/2024  719      YES                 2       $46414        07/2003                   2004               No           53              66        1966           11  Female  462 Rose Lane     34.15    -117.76            29278.0        59696.0    127613.0           787                 5\n",
       "3       42        825        Visa           Credit  4879494103069057  08/2024  693       NO                 1       $12400        01/2003                   2012               No           53              66        1966           11  Female  462 Rose Lane     34.15    -117.76            29278.0        59696.0    127613.0           787                 5\n",
       "4     4659        825  Mastercard  Debit (Prepaid)  5722874738736011  03/2009   75      YES                 1          $28        09/2008                   2009               No           53              66        1966           11  Female  462 Rose Lane     34.15    -117.76            29278.0        59696.0    127613.0           787                 5"
      ]
     },
     "execution_count": 6,
     "metadata": {},
     "output_type": "execute_result"
    }
   ],
   "source": [
    "cards_users.head()"
   ]
  },
  {
   "cell_type": "markdown",
   "id": "441d3f78",
   "metadata": {},
   "source": [
    "### MCC and Transactions Directory"
   ]
  },
  {
   "cell_type": "code",
   "execution_count": 7,
   "id": "6a9b50cc",
   "metadata": {},
   "outputs": [],
   "source": [
    "mcc_transaction = transaction_df.join(mcc_df.set_index(\"mcc\"), on=\"mcc\", how=\"left\")\n",
    "mcc_transaction[\"amount\"] = mcc_transaction[\"amount\"].str.replace(\"$\", \"\").astype(\"float\")"
   ]
  },
  {
   "cell_type": "code",
   "execution_count": 8,
   "id": "8266bc98",
   "metadata": {},
   "outputs": [],
   "source": [
    "mcc_transaction_df = mcc_transaction.merge(train_df, \"inner\")"
   ]
  },
  {
   "cell_type": "code",
   "execution_count": 9,
   "id": "f9578373",
   "metadata": {},
   "outputs": [
    {
     "data": {
      "application/vnd.microsoft.datawrangler.viewer.v0+json": {
       "columns": [
        {
         "name": "index",
         "rawType": "int64",
         "type": "integer"
        },
        {
         "name": "id",
         "rawType": "int64",
         "type": "integer"
        },
        {
         "name": "date",
         "rawType": "object",
         "type": "string"
        },
        {
         "name": "client_id",
         "rawType": "int64",
         "type": "integer"
        },
        {
         "name": "card_id",
         "rawType": "int64",
         "type": "integer"
        },
        {
         "name": "amount",
         "rawType": "float64",
         "type": "float"
        },
        {
         "name": "use_chip",
         "rawType": "object",
         "type": "string"
        },
        {
         "name": "merchant_id",
         "rawType": "int64",
         "type": "integer"
        },
        {
         "name": "merchant_city",
         "rawType": "object",
         "type": "string"
        },
        {
         "name": "merchant_state",
         "rawType": "object",
         "type": "string"
        },
        {
         "name": "zip",
         "rawType": "float64",
         "type": "float"
        },
        {
         "name": "mcc",
         "rawType": "int64",
         "type": "integer"
        },
        {
         "name": "errors",
         "rawType": "object",
         "type": "unknown"
        },
        {
         "name": "description",
         "rawType": "object",
         "type": "string"
        },
        {
         "name": "target",
         "rawType": "object",
         "type": "string"
        }
       ],
       "ref": "363e4bc1-8767-4fd6-9acf-5ab3b79a18bf",
       "rows": [
        [
         "0",
         "7475327",
         "2010-01-01 00:01:00",
         "1556",
         "2972",
         "-77.0",
         "Swipe Transaction",
         "59935",
         "Beulah",
         "ND",
         "58523.0",
         "5499",
         null,
         "Miscellaneous Food Stores",
         "No"
        ],
        [
         "1",
         "7475328",
         "2010-01-01 00:02:00",
         "561",
         "4575",
         "14.57",
         "Swipe Transaction",
         "67570",
         "Bettendorf",
         "IA",
         "52722.0",
         "5311",
         null,
         "Department Stores",
         "No"
        ],
        [
         "2",
         "7475329",
         "2010-01-01 00:02:00",
         "1129",
         "102",
         "80.0",
         "Swipe Transaction",
         "27092",
         "Vista",
         "CA",
         "92084.0",
         "4829",
         null,
         "Money Transfer",
         "No"
        ],
        [
         "3",
         "7475332",
         "2010-01-01 00:06:00",
         "848",
         "3915",
         "46.41",
         "Swipe Transaction",
         "13051",
         "Harwood",
         "MD",
         "20776.0",
         "5813",
         null,
         "Drinking Places (Alcoholic Beverages)",
         "No"
        ],
        [
         "4",
         "7475333",
         "2010-01-01 00:07:00",
         "1807",
         "165",
         "4.81",
         "Swipe Transaction",
         "20519",
         "Bronx",
         "NY",
         "10464.0",
         "5942",
         null,
         "Book Stores",
         "No"
        ]
       ],
       "shape": {
        "columns": 14,
        "rows": 5
       }
      },
      "text/html": [
       "<div>\n",
       "<style scoped>\n",
       "    .dataframe tbody tr th:only-of-type {\n",
       "        vertical-align: middle;\n",
       "    }\n",
       "\n",
       "    .dataframe tbody tr th {\n",
       "        vertical-align: top;\n",
       "    }\n",
       "\n",
       "    .dataframe thead th {\n",
       "        text-align: right;\n",
       "    }\n",
       "</style>\n",
       "<table border=\"1\" class=\"dataframe\">\n",
       "  <thead>\n",
       "    <tr style=\"text-align: right;\">\n",
       "      <th></th>\n",
       "      <th>id</th>\n",
       "      <th>date</th>\n",
       "      <th>client_id</th>\n",
       "      <th>card_id</th>\n",
       "      <th>amount</th>\n",
       "      <th>use_chip</th>\n",
       "      <th>merchant_id</th>\n",
       "      <th>merchant_city</th>\n",
       "      <th>merchant_state</th>\n",
       "      <th>zip</th>\n",
       "      <th>mcc</th>\n",
       "      <th>errors</th>\n",
       "      <th>description</th>\n",
       "      <th>target</th>\n",
       "    </tr>\n",
       "  </thead>\n",
       "  <tbody>\n",
       "    <tr>\n",
       "      <th>0</th>\n",
       "      <td>7475327</td>\n",
       "      <td>2010-01-01 00:01:00</td>\n",
       "      <td>1556</td>\n",
       "      <td>2972</td>\n",
       "      <td>-77.00</td>\n",
       "      <td>Swipe Transaction</td>\n",
       "      <td>59935</td>\n",
       "      <td>Beulah</td>\n",
       "      <td>ND</td>\n",
       "      <td>58523.0</td>\n",
       "      <td>5499</td>\n",
       "      <td>NaN</td>\n",
       "      <td>Miscellaneous Food Stores</td>\n",
       "      <td>No</td>\n",
       "    </tr>\n",
       "    <tr>\n",
       "      <th>1</th>\n",
       "      <td>7475328</td>\n",
       "      <td>2010-01-01 00:02:00</td>\n",
       "      <td>561</td>\n",
       "      <td>4575</td>\n",
       "      <td>14.57</td>\n",
       "      <td>Swipe Transaction</td>\n",
       "      <td>67570</td>\n",
       "      <td>Bettendorf</td>\n",
       "      <td>IA</td>\n",
       "      <td>52722.0</td>\n",
       "      <td>5311</td>\n",
       "      <td>NaN</td>\n",
       "      <td>Department Stores</td>\n",
       "      <td>No</td>\n",
       "    </tr>\n",
       "    <tr>\n",
       "      <th>2</th>\n",
       "      <td>7475329</td>\n",
       "      <td>2010-01-01 00:02:00</td>\n",
       "      <td>1129</td>\n",
       "      <td>102</td>\n",
       "      <td>80.00</td>\n",
       "      <td>Swipe Transaction</td>\n",
       "      <td>27092</td>\n",
       "      <td>Vista</td>\n",
       "      <td>CA</td>\n",
       "      <td>92084.0</td>\n",
       "      <td>4829</td>\n",
       "      <td>NaN</td>\n",
       "      <td>Money Transfer</td>\n",
       "      <td>No</td>\n",
       "    </tr>\n",
       "    <tr>\n",
       "      <th>3</th>\n",
       "      <td>7475332</td>\n",
       "      <td>2010-01-01 00:06:00</td>\n",
       "      <td>848</td>\n",
       "      <td>3915</td>\n",
       "      <td>46.41</td>\n",
       "      <td>Swipe Transaction</td>\n",
       "      <td>13051</td>\n",
       "      <td>Harwood</td>\n",
       "      <td>MD</td>\n",
       "      <td>20776.0</td>\n",
       "      <td>5813</td>\n",
       "      <td>NaN</td>\n",
       "      <td>Drinking Places (Alcoholic Beverages)</td>\n",
       "      <td>No</td>\n",
       "    </tr>\n",
       "    <tr>\n",
       "      <th>4</th>\n",
       "      <td>7475333</td>\n",
       "      <td>2010-01-01 00:07:00</td>\n",
       "      <td>1807</td>\n",
       "      <td>165</td>\n",
       "      <td>4.81</td>\n",
       "      <td>Swipe Transaction</td>\n",
       "      <td>20519</td>\n",
       "      <td>Bronx</td>\n",
       "      <td>NY</td>\n",
       "      <td>10464.0</td>\n",
       "      <td>5942</td>\n",
       "      <td>NaN</td>\n",
       "      <td>Book Stores</td>\n",
       "      <td>No</td>\n",
       "    </tr>\n",
       "  </tbody>\n",
       "</table>\n",
       "</div>"
      ],
      "text/plain": [
       "        id                 date  client_id  card_id  amount           use_chip  merchant_id merchant_city merchant_state      zip   mcc errors                            description target\n",
       "0  7475327  2010-01-01 00:01:00       1556     2972  -77.00  Swipe Transaction        59935        Beulah             ND  58523.0  5499    NaN              Miscellaneous Food Stores     No\n",
       "1  7475328  2010-01-01 00:02:00        561     4575   14.57  Swipe Transaction        67570    Bettendorf             IA  52722.0  5311    NaN                      Department Stores     No\n",
       "2  7475329  2010-01-01 00:02:00       1129      102   80.00  Swipe Transaction        27092         Vista             CA  92084.0  4829    NaN                         Money Transfer     No\n",
       "3  7475332  2010-01-01 00:06:00        848     3915   46.41  Swipe Transaction        13051       Harwood             MD  20776.0  5813    NaN  Drinking Places (Alcoholic Beverages)     No\n",
       "4  7475333  2010-01-01 00:07:00       1807      165    4.81  Swipe Transaction        20519         Bronx             NY  10464.0  5942    NaN                            Book Stores     No"
      ]
     },
     "execution_count": 9,
     "metadata": {},
     "output_type": "execute_result"
    }
   ],
   "source": [
    "mcc_transaction_df.head()"
   ]
  },
  {
   "cell_type": "markdown",
   "id": "95156a1e",
   "metadata": {},
   "source": [
    "# Fraud Preprocessing"
   ]
  },
  {
   "cell_type": "code",
   "execution_count": 10,
   "id": "d3390cf9",
   "metadata": {},
   "outputs": [],
   "source": [
    "fraud_df = mcc_transaction_df[mcc_transaction_df[\"target\"] == \"Yes\"].fillna(\"Unknown\").sort_values(\"client_id\")\n",
    "not_fraud_df = mcc_transaction_df.drop(fraud_df.index, axis=0)"
   ]
  },
  {
   "cell_type": "code",
   "execution_count": 11,
   "id": "b401cbf8",
   "metadata": {},
   "outputs": [],
   "source": [
    "fraud_df[\"abs_amount_value\"] = abs(fraud_df[\"amount\"])\n",
    "unique_card_id = fraud_df[\"card_id\"].unique()\n",
    "matching_indices = []\n",
    "\n",
    "for card in unique_card_id:\n",
    "    temp_df = fraud_df[fraud_df[\"card_id\"] == card]\n",
    "    grouped = temp_df.groupby(\"abs_amount_value\")\n",
    "\n",
    "    for val, group in grouped:\n",
    "        if (group[\"amount\"] > 0).any() and (group[\"amount\"] < 0).any():\n",
    "            # Add the indices of both + and - rows\n",
    "            matching_indices.extend(group.index.tolist())\n",
    "\n"
   ]
  },
  {
   "cell_type": "code",
   "execution_count": 12,
   "id": "274c4f76",
   "metadata": {},
   "outputs": [],
   "source": [
    "final_fraud_df = fraud_df.drop(matching_indices, axis=0)"
   ]
  },
  {
   "cell_type": "code",
   "execution_count": 14,
   "id": "30f74e3f",
   "metadata": {},
   "outputs": [
    {
     "ename": "KeyboardInterrupt",
     "evalue": "",
     "output_type": "error",
     "traceback": [
      "\u001b[0;31m---------------------------------------------------------------------------\u001b[0m",
      "\u001b[0;31mKeyboardInterrupt\u001b[0m                         Traceback (most recent call last)",
      "Cell \u001b[0;32mIn[14], line 10\u001b[0m\n\u001b[1;32m      7\u001b[0m grouped \u001b[38;5;241m=\u001b[39m temp_df\u001b[38;5;241m.\u001b[39mgroupby(\u001b[38;5;124m\"\u001b[39m\u001b[38;5;124mabs_amount_value\u001b[39m\u001b[38;5;124m\"\u001b[39m)\n\u001b[1;32m      9\u001b[0m \u001b[38;5;28;01mfor\u001b[39;00m val, group \u001b[38;5;129;01min\u001b[39;00m grouped:\n\u001b[0;32m---> 10\u001b[0m     \u001b[38;5;28;01mif\u001b[39;00m (\u001b[43mgroup\u001b[49m\u001b[43m[\u001b[49m\u001b[38;5;124;43m\"\u001b[39;49m\u001b[38;5;124;43mamount\u001b[39;49m\u001b[38;5;124;43m\"\u001b[39;49m\u001b[43m]\u001b[49m\u001b[43m \u001b[49m\u001b[38;5;241;43m>\u001b[39;49m\u001b[43m \u001b[49m\u001b[38;5;241;43m0\u001b[39;49m)\u001b[38;5;241m.\u001b[39many() \u001b[38;5;129;01mand\u001b[39;00m (group[\u001b[38;5;124m\"\u001b[39m\u001b[38;5;124mamount\u001b[39m\u001b[38;5;124m\"\u001b[39m] \u001b[38;5;241m<\u001b[39m \u001b[38;5;241m0\u001b[39m)\u001b[38;5;241m.\u001b[39many():\n\u001b[1;32m     11\u001b[0m         \u001b[38;5;66;03m# Add the indices of both + and - rows\u001b[39;00m\n\u001b[1;32m     12\u001b[0m         matching_indices\u001b[38;5;241m.\u001b[39mextend(group\u001b[38;5;241m.\u001b[39mindex\u001b[38;5;241m.\u001b[39mtolist())\n",
      "File \u001b[0;32m~/Documents/practice/who-dunnit/.venv/lib/python3.10/site-packages/pandas/core/ops/common.py:76\u001b[0m, in \u001b[0;36m_unpack_zerodim_and_defer.<locals>.new_method\u001b[0;34m(self, other)\u001b[0m\n\u001b[1;32m     72\u001b[0m             \u001b[38;5;28;01mreturn\u001b[39;00m \u001b[38;5;28mNotImplemented\u001b[39m\n\u001b[1;32m     74\u001b[0m other \u001b[38;5;241m=\u001b[39m item_from_zerodim(other)\n\u001b[0;32m---> 76\u001b[0m \u001b[38;5;28;01mreturn\u001b[39;00m \u001b[43mmethod\u001b[49m\u001b[43m(\u001b[49m\u001b[38;5;28;43mself\u001b[39;49m\u001b[43m,\u001b[49m\u001b[43m \u001b[49m\u001b[43mother\u001b[49m\u001b[43m)\u001b[49m\n",
      "File \u001b[0;32m~/Documents/practice/who-dunnit/.venv/lib/python3.10/site-packages/pandas/core/arraylike.py:56\u001b[0m, in \u001b[0;36mOpsMixin.__gt__\u001b[0;34m(self, other)\u001b[0m\n\u001b[1;32m     54\u001b[0m \u001b[38;5;129m@unpack_zerodim_and_defer\u001b[39m(\u001b[38;5;124m\"\u001b[39m\u001b[38;5;124m__gt__\u001b[39m\u001b[38;5;124m\"\u001b[39m)\n\u001b[1;32m     55\u001b[0m \u001b[38;5;28;01mdef\u001b[39;00m\u001b[38;5;250m \u001b[39m\u001b[38;5;21m__gt__\u001b[39m(\u001b[38;5;28mself\u001b[39m, other):\n\u001b[0;32m---> 56\u001b[0m     \u001b[38;5;28;01mreturn\u001b[39;00m \u001b[38;5;28;43mself\u001b[39;49m\u001b[38;5;241;43m.\u001b[39;49m\u001b[43m_cmp_method\u001b[49m\u001b[43m(\u001b[49m\u001b[43mother\u001b[49m\u001b[43m,\u001b[49m\u001b[43m \u001b[49m\u001b[43moperator\u001b[49m\u001b[38;5;241;43m.\u001b[39;49m\u001b[43mgt\u001b[49m\u001b[43m)\u001b[49m\n",
      "File \u001b[0;32m~/Documents/practice/who-dunnit/.venv/lib/python3.10/site-packages/pandas/core/series.py:6121\u001b[0m, in \u001b[0;36mSeries._cmp_method\u001b[0;34m(self, other, op)\u001b[0m\n\u001b[1;32m   6117\u001b[0m rvalues \u001b[38;5;241m=\u001b[39m extract_array(other, extract_numpy\u001b[38;5;241m=\u001b[39m\u001b[38;5;28;01mTrue\u001b[39;00m, extract_range\u001b[38;5;241m=\u001b[39m\u001b[38;5;28;01mTrue\u001b[39;00m)\n\u001b[1;32m   6119\u001b[0m res_values \u001b[38;5;241m=\u001b[39m ops\u001b[38;5;241m.\u001b[39mcomparison_op(lvalues, rvalues, op)\n\u001b[0;32m-> 6121\u001b[0m \u001b[38;5;28;01mreturn\u001b[39;00m \u001b[38;5;28;43mself\u001b[39;49m\u001b[38;5;241;43m.\u001b[39;49m\u001b[43m_construct_result\u001b[49m\u001b[43m(\u001b[49m\u001b[43mres_values\u001b[49m\u001b[43m,\u001b[49m\u001b[43m \u001b[49m\u001b[43mname\u001b[49m\u001b[38;5;241;43m=\u001b[39;49m\u001b[43mres_name\u001b[49m\u001b[43m)\u001b[49m\n",
      "File \u001b[0;32m~/Documents/practice/who-dunnit/.venv/lib/python3.10/site-packages/pandas/core/series.py:6231\u001b[0m, in \u001b[0;36mSeries._construct_result\u001b[0;34m(self, result, name)\u001b[0m\n\u001b[1;32m   6228\u001b[0m \u001b[38;5;66;03m# TODO: result should always be ArrayLike, but this fails for some\u001b[39;00m\n\u001b[1;32m   6229\u001b[0m \u001b[38;5;66;03m#  JSONArray tests\u001b[39;00m\n\u001b[1;32m   6230\u001b[0m dtype \u001b[38;5;241m=\u001b[39m \u001b[38;5;28mgetattr\u001b[39m(result, \u001b[38;5;124m\"\u001b[39m\u001b[38;5;124mdtype\u001b[39m\u001b[38;5;124m\"\u001b[39m, \u001b[38;5;28;01mNone\u001b[39;00m)\n\u001b[0;32m-> 6231\u001b[0m out \u001b[38;5;241m=\u001b[39m \u001b[38;5;28;43mself\u001b[39;49m\u001b[38;5;241;43m.\u001b[39;49m\u001b[43m_constructor\u001b[49m\u001b[43m(\u001b[49m\u001b[43mresult\u001b[49m\u001b[43m,\u001b[49m\u001b[43m \u001b[49m\u001b[43mindex\u001b[49m\u001b[38;5;241;43m=\u001b[39;49m\u001b[38;5;28;43mself\u001b[39;49m\u001b[38;5;241;43m.\u001b[39;49m\u001b[43mindex\u001b[49m\u001b[43m,\u001b[49m\u001b[43m \u001b[49m\u001b[43mdtype\u001b[49m\u001b[38;5;241;43m=\u001b[39;49m\u001b[43mdtype\u001b[49m\u001b[43m,\u001b[49m\u001b[43m \u001b[49m\u001b[43mcopy\u001b[49m\u001b[38;5;241;43m=\u001b[39;49m\u001b[38;5;28;43;01mFalse\u001b[39;49;00m\u001b[43m)\u001b[49m\n\u001b[1;32m   6232\u001b[0m out \u001b[38;5;241m=\u001b[39m out\u001b[38;5;241m.\u001b[39m__finalize__(\u001b[38;5;28mself\u001b[39m)\n\u001b[1;32m   6234\u001b[0m \u001b[38;5;66;03m# Set the result's name after __finalize__ is called because __finalize__\u001b[39;00m\n\u001b[1;32m   6235\u001b[0m \u001b[38;5;66;03m#  would set it back to self.name\u001b[39;00m\n",
      "File \u001b[0;32m~/Documents/practice/who-dunnit/.venv/lib/python3.10/site-packages/pandas/core/series.py:593\u001b[0m, in \u001b[0;36mSeries.__init__\u001b[0;34m(self, data, index, dtype, name, copy, fastpath)\u001b[0m\n\u001b[1;32m    590\u001b[0m         data \u001b[38;5;241m=\u001b[39m SingleArrayManager\u001b[38;5;241m.\u001b[39mfrom_array(data, index)\n\u001b[1;32m    592\u001b[0m NDFrame\u001b[38;5;241m.\u001b[39m\u001b[38;5;21m__init__\u001b[39m(\u001b[38;5;28mself\u001b[39m, data)\n\u001b[0;32m--> 593\u001b[0m \u001b[38;5;28;43mself\u001b[39;49m\u001b[38;5;241;43m.\u001b[39;49m\u001b[43mname\u001b[49m \u001b[38;5;241m=\u001b[39m name\n\u001b[1;32m    594\u001b[0m \u001b[38;5;28mself\u001b[39m\u001b[38;5;241m.\u001b[39m_set_axis(\u001b[38;5;241m0\u001b[39m, index)\n\u001b[1;32m    596\u001b[0m \u001b[38;5;28;01mif\u001b[39;00m original_dtype \u001b[38;5;129;01mis\u001b[39;00m \u001b[38;5;28;01mNone\u001b[39;00m \u001b[38;5;129;01mand\u001b[39;00m is_pandas_object \u001b[38;5;129;01mand\u001b[39;00m data_dtype \u001b[38;5;241m==\u001b[39m np\u001b[38;5;241m.\u001b[39mobject_:\n",
      "File \u001b[0;32m~/Documents/practice/who-dunnit/.venv/lib/python3.10/site-packages/pandas/core/generic.py:6320\u001b[0m, in \u001b[0;36mNDFrame.__setattr__\u001b[0;34m(self, name, value)\u001b[0m\n\u001b[1;32m   6317\u001b[0m \u001b[38;5;66;03m# if this fails, go on to more involved attribute setting\u001b[39;00m\n\u001b[1;32m   6318\u001b[0m \u001b[38;5;66;03m# (note that this matches __getattr__, above).\u001b[39;00m\n\u001b[1;32m   6319\u001b[0m \u001b[38;5;28;01mif\u001b[39;00m name \u001b[38;5;129;01min\u001b[39;00m \u001b[38;5;28mself\u001b[39m\u001b[38;5;241m.\u001b[39m_internal_names_set:\n\u001b[0;32m-> 6320\u001b[0m     \u001b[38;5;28;43mobject\u001b[39;49m\u001b[38;5;241;43m.\u001b[39;49m\u001b[38;5;21;43m__setattr__\u001b[39;49m\u001b[43m(\u001b[49m\u001b[38;5;28;43mself\u001b[39;49m\u001b[43m,\u001b[49m\u001b[43m \u001b[49m\u001b[43mname\u001b[49m\u001b[43m,\u001b[49m\u001b[43m \u001b[49m\u001b[43mvalue\u001b[49m\u001b[43m)\u001b[49m\n\u001b[1;32m   6321\u001b[0m \u001b[38;5;28;01melif\u001b[39;00m name \u001b[38;5;129;01min\u001b[39;00m \u001b[38;5;28mself\u001b[39m\u001b[38;5;241m.\u001b[39m_metadata:\n\u001b[1;32m   6322\u001b[0m     \u001b[38;5;28mobject\u001b[39m\u001b[38;5;241m.\u001b[39m\u001b[38;5;21m__setattr__\u001b[39m(\u001b[38;5;28mself\u001b[39m, name, value)\n",
      "File \u001b[0;32m~/Documents/practice/who-dunnit/.venv/lib/python3.10/site-packages/pandas/core/series.py:786\u001b[0m, in \u001b[0;36mSeries.name\u001b[0;34m(self, value)\u001b[0m\n\u001b[1;32m    784\u001b[0m \u001b[38;5;129m@name\u001b[39m\u001b[38;5;241m.\u001b[39msetter\n\u001b[1;32m    785\u001b[0m \u001b[38;5;28;01mdef\u001b[39;00m\u001b[38;5;250m \u001b[39m\u001b[38;5;21mname\u001b[39m(\u001b[38;5;28mself\u001b[39m, value: Hashable) \u001b[38;5;241m-\u001b[39m\u001b[38;5;241m>\u001b[39m \u001b[38;5;28;01mNone\u001b[39;00m:\n\u001b[0;32m--> 786\u001b[0m     \u001b[43mvalidate_all_hashable\u001b[49m\u001b[43m(\u001b[49m\u001b[43mvalue\u001b[49m\u001b[43m,\u001b[49m\u001b[43m \u001b[49m\u001b[43merror_name\u001b[49m\u001b[38;5;241;43m=\u001b[39;49m\u001b[38;5;124;43mf\u001b[39;49m\u001b[38;5;124;43m\"\u001b[39;49m\u001b[38;5;132;43;01m{\u001b[39;49;00m\u001b[38;5;28;43mtype\u001b[39;49m\u001b[43m(\u001b[49m\u001b[38;5;28;43mself\u001b[39;49m\u001b[43m)\u001b[49m\u001b[38;5;241;43m.\u001b[39;49m\u001b[38;5;18;43m__name__\u001b[39;49m\u001b[38;5;132;43;01m}\u001b[39;49;00m\u001b[38;5;124;43m.name\u001b[39;49m\u001b[38;5;124;43m\"\u001b[39;49m\u001b[43m)\u001b[49m\n\u001b[1;32m    787\u001b[0m     \u001b[38;5;28mobject\u001b[39m\u001b[38;5;241m.\u001b[39m\u001b[38;5;21m__setattr__\u001b[39m(\u001b[38;5;28mself\u001b[39m, \u001b[38;5;124m\"\u001b[39m\u001b[38;5;124m_name\u001b[39m\u001b[38;5;124m\"\u001b[39m, value)\n",
      "File \u001b[0;32m~/Documents/practice/who-dunnit/.venv/lib/python3.10/site-packages/pandas/core/dtypes/common.py:1590\u001b[0m, in \u001b[0;36mvalidate_all_hashable\u001b[0;34m(error_name, *args)\u001b[0m\n\u001b[1;32m   1571\u001b[0m \u001b[38;5;28;01mdef\u001b[39;00m\u001b[38;5;250m \u001b[39m\u001b[38;5;21mvalidate_all_hashable\u001b[39m(\u001b[38;5;241m*\u001b[39margs, error_name: \u001b[38;5;28mstr\u001b[39m \u001b[38;5;241m|\u001b[39m \u001b[38;5;28;01mNone\u001b[39;00m \u001b[38;5;241m=\u001b[39m \u001b[38;5;28;01mNone\u001b[39;00m) \u001b[38;5;241m-\u001b[39m\u001b[38;5;241m>\u001b[39m \u001b[38;5;28;01mNone\u001b[39;00m:\n\u001b[1;32m   1572\u001b[0m \u001b[38;5;250m    \u001b[39m\u001b[38;5;124;03m\"\"\"\u001b[39;00m\n\u001b[1;32m   1573\u001b[0m \u001b[38;5;124;03m    Return None if all args are hashable, else raise a TypeError.\u001b[39;00m\n\u001b[1;32m   1574\u001b[0m \n\u001b[0;32m   (...)\u001b[0m\n\u001b[1;32m   1588\u001b[0m \u001b[38;5;124;03m    None\u001b[39;00m\n\u001b[1;32m   1589\u001b[0m \u001b[38;5;124;03m    \"\"\"\u001b[39;00m\n\u001b[0;32m-> 1590\u001b[0m     \u001b[38;5;28;01mif\u001b[39;00m \u001b[38;5;129;01mnot\u001b[39;00m \u001b[38;5;28mall\u001b[39m(is_hashable(arg) \u001b[38;5;28;01mfor\u001b[39;00m arg \u001b[38;5;129;01min\u001b[39;00m args):\n\u001b[1;32m   1591\u001b[0m         \u001b[38;5;28;01mif\u001b[39;00m error_name:\n\u001b[1;32m   1592\u001b[0m             \u001b[38;5;28;01mraise\u001b[39;00m \u001b[38;5;167;01mTypeError\u001b[39;00m(\u001b[38;5;124mf\u001b[39m\u001b[38;5;124m\"\u001b[39m\u001b[38;5;132;01m{\u001b[39;00merror_name\u001b[38;5;132;01m}\u001b[39;00m\u001b[38;5;124m must be a hashable type\u001b[39m\u001b[38;5;124m\"\u001b[39m)\n",
      "\u001b[0;31mKeyboardInterrupt\u001b[0m: "
     ]
    }
   ],
   "source": [
    "not_fraud_df[\"abs_amount_value\"] = abs(not_fraud_df[\"amount\"])\n",
    "unique_card_id = not_fraud_df[\"card_id\"].unique()\n",
    "matching_indices = []\n",
    "\n",
    "for card in unique_card_id:\n",
    "    temp_df = not_fraud_df[not_fraud_df[\"card_id\"] == card]\n",
    "    grouped = temp_df.groupby(\"abs_amount_value\")\n",
    "\n",
    "    for val, group in grouped:\n",
    "        if (group[\"amount\"] > 0).any() and (group[\"amount\"] < 0).any():\n",
    "            # Add the indices of both + and - rows\n",
    "            matching_indices.extend(group.index.tolist())\n"
   ]
  },
  {
   "cell_type": "code",
   "execution_count": 23,
   "id": "36341b19",
   "metadata": {},
   "outputs": [],
   "source": [
    "final_not_fraud_df = not_fraud_df.drop(matching_indices, axis=0)"
   ]
  },
  {
   "cell_type": "markdown",
   "id": "60ec0583",
   "metadata": {},
   "source": [
    "# Analysis"
   ]
  },
  {
   "cell_type": "code",
   "execution_count": null,
   "id": "3fbeebdc",
   "metadata": {},
   "outputs": [],
   "source": [
    "# fraud_df = final_fraud_df\n",
    "# not_fraud_df = final_not_fraud_df\n",
    "# mcc_transaction_df = final_mcc_trans_df\n",
    "# cards_users_df = cards_users"
   ]
  },
  {
   "cell_type": "code",
   "execution_count": 32,
   "id": "8bb89550",
   "metadata": {},
   "outputs": [],
   "source": [
    "analysis_fraud_df = final_fraud_df.merge(cards_users, 'inner', on=\"card_id\")\n",
    "analysis_not_fraud_df = final_not_fraud_df.merge(cards_users, \"inner\", on=\"card_id\")"
   ]
  },
  {
   "cell_type": "markdown",
   "id": "2c89af3e",
   "metadata": {},
   "source": [
    "### Card Type"
   ]
  },
  {
   "cell_type": "code",
   "execution_count": 36,
   "id": "34233d50",
   "metadata": {},
   "outputs": [
    {
     "data": {
      "text/plain": [
       "<Axes: xlabel='card_type', ylabel='count'>"
      ]
     },
     "execution_count": 36,
     "metadata": {},
     "output_type": "execute_result"
    },
    {
     "data": {
      "image/png": "[encoded data removed]",
      "text/plain": [
       "<Figure size 640x480 with 1 Axes>"
      ]
     },
     "metadata": {},
     "output_type": "display_data"
    }
   ],
   "source": [
    "sns.countplot(analysis_fraud_df.drop_duplicates(\"card_id\"), x=\"card_type\", color=\"red\")\n",
    "sns.countplot(analysis_not_fraud_df.drop_duplicates(\"card_id\"), x=\"card_type\", color=\"green\", alpha=0.4)"
   ]
  },
  {
   "cell_type": "markdown",
   "id": "81111fee",
   "metadata": {},
   "source": [
    "### Amount"
   ]
  },
  {
   "cell_type": "code",
   "execution_count": null,
   "id": "0fcfab26",
   "metadata": {},
   "outputs": [
    {
     "data": {
      "text/plain": [
       "<Axes: xlabel='amount', ylabel='Count'>"
      ]
     },
     "execution_count": 31,
     "metadata": {},
     "output_type": "execute_result"
    },
    {
     "data": {
      "image/png": "[encoded data removed]",
      "text/plain": [
       "<Figure size 640x480 with 1 Axes>"
      ]
     },
     "metadata": {},
     "output_type": "display_data"
    }
   ],
   "source": [
    "sns.histplot(analysis_fraud_df, x=\"amount\", color=\"red\", label=\"Fraud\")\n",
    "# sns.histplot(final_not_fraud_df, x=\"amount\", color=\"green\", alpha=0.7, label=\"Not Fraud\")"
   ]
  },
  {
   "cell_type": "markdown",
   "id": "b13cc3d6",
   "metadata": {},
   "source": [
    "### Card Brand"
   ]
  },
  {
   "cell_type": "code",
   "execution_count": null,
   "id": "9367f4b2",
   "metadata": {},
   "outputs": [
    {
     "data": {
      "text/plain": [
       "<Axes: xlabel='card_brand', ylabel='count'>"
      ]
     },
     "execution_count": 37,
     "metadata": {},
     "output_type": "execute_result"
    },
    {
     "data": {
      "image/png": "[encoded data removed]",
      "text/plain": [
       "<Figure size 640x480 with 1 Axes>"
      ]
     },
     "metadata": {},
     "output_type": "display_data"
    }
   ],
   "source": [
    "sns.countplot(analysis_fraud_df.drop_duplicates(\"card_id\"), x=\"card_brand\", color=\"red\", alpha=0.4)\n",
    "sns.countplot(analysis_not_fraud_df.drop_duplicates(\"card_id\"), x=\"card_brand\", color=\"green\", alpha=0.4)"
   ]
  },
  {
   "cell_type": "markdown",
   "id": "b8bc2da1",
   "metadata": {},
   "source": [
    "### Age (Fraud)"
   ]
  },
  {
   "cell_type": "code",
   "execution_count": 40,
   "id": "3b625147",
   "metadata": {},
   "outputs": [
    {
     "data": {
      "text/plain": [
       "<Axes: xlabel='current_age', ylabel='Count'>"
      ]
     },
     "execution_count": 40,
     "metadata": {},
     "output_type": "execute_result"
    },
    {
     "data": {
      "image/png": "[encoded data removed]",
      "text/plain": [
       "<Figure size 640x480 with 1 Axes>"
      ]
     },
     "metadata": {},
     "output_type": "display_data"
    }
   ],
   "source": [
    "sns.histplot(analysis_fraud_df.drop_duplicates(\"client_id_x\"), x=\"current_age\", bins=25, alpha=0.4, color=\"red\")\n",
    "sns.histplot(analysis_not_fraud_df.drop_duplicates(\"client_id_x\"), x=\"current_age\", bins=25, color=\"green\", alpha=0.7)"
   ]
  },
  {
   "cell_type": "markdown",
   "id": "8ea787ee",
   "metadata": {},
   "source": [
    "### Gender (Fraud)"
   ]
  },
  {
   "cell_type": "code",
   "execution_count": null,
   "id": "634e37fd",
   "metadata": {},
   "outputs": [
    {
     "data": {
      "text/plain": [
       "<Axes: xlabel='gender', ylabel='count'>"
      ]
     },
     "execution_count": 38,
     "metadata": {},
     "output_type": "execute_result"
    },
    {
     "data": {
      "image/png": "[encoded data removed]",
      "text/plain": [
       "<Figure size 640x480 with 1 Axes>"
      ]
     },
     "metadata": {},
     "output_type": "display_data"
    }
   ],
   "source": [
    "sns.countplot(analysis_fraud_df.drop_duplicates(\"client_id_x\"), x=\"gender\")"
   ]
  },
  {
   "cell_type": "markdown",
   "id": "1408c3eb",
   "metadata": {},
   "source": [
    "### Description (Fraud)"
   ]
  },
  {
   "cell_type": "code",
   "execution_count": null,
   "id": "04033076",
   "metadata": {},
   "outputs": [
    {
     "data": {
      "application/vnd.microsoft.datawrangler.viewer.v0+json": {
       "columns": [
        {
         "name": "description",
         "rawType": "object",
         "type": "string"
        },
        {
         "name": "count",
         "rawType": "int64",
         "type": "integer"
        }
       ],
       "ref": "588f00fd-9527-4938-9b82-1cc75f3cee5f",
       "rows": [
        [
         "Department Stores",
         "2251"
        ],
        [
         "Wholesale Clubs",
         "991"
        ],
        [
         "Discount Stores",
         "859"
        ],
        [
         "Money Transfer",
         "725"
        ],
        [
         "Drug Stores and Pharmacies",
         "479"
        ]
       ],
       "shape": {
        "columns": 1,
        "rows": 5
       }
      },
      "text/html": [
       "<div>\n",
       "<style scoped>\n",
       "    .dataframe tbody tr th:only-of-type {\n",
       "        vertical-align: middle;\n",
       "    }\n",
       "\n",
       "    .dataframe tbody tr th {\n",
       "        vertical-align: top;\n",
       "    }\n",
       "\n",
       "    .dataframe thead th {\n",
       "        text-align: right;\n",
       "    }\n",
       "</style>\n",
       "<table border=\"1\" class=\"dataframe\">\n",
       "  <thead>\n",
       "    <tr style=\"text-align: right;\">\n",
       "      <th></th>\n",
       "      <th>count</th>\n",
       "    </tr>\n",
       "    <tr>\n",
       "      <th>description</th>\n",
       "      <th></th>\n",
       "    </tr>\n",
       "  </thead>\n",
       "  <tbody>\n",
       "    <tr>\n",
       "      <th>Department Stores</th>\n",
       "      <td>2251</td>\n",
       "    </tr>\n",
       "    <tr>\n",
       "      <th>Wholesale Clubs</th>\n",
       "      <td>991</td>\n",
       "    </tr>\n",
       "    <tr>\n",
       "      <th>Discount Stores</th>\n",
       "      <td>859</td>\n",
       "    </tr>\n",
       "    <tr>\n",
       "      <th>Money Transfer</th>\n",
       "      <td>725</td>\n",
       "    </tr>\n",
       "    <tr>\n",
       "      <th>Drug Stores and Pharmacies</th>\n",
       "      <td>479</td>\n",
       "    </tr>\n",
       "  </tbody>\n",
       "</table>\n",
       "</div>"
      ],
      "text/plain": [
       "                            count\n",
       "description                      \n",
       "Department Stores            2251\n",
       "Wholesale Clubs               991\n",
       "Discount Stores               859\n",
       "Money Transfer                725\n",
       "Drug Stores and Pharmacies    479"
      ]
     },
     "execution_count": 59,
     "metadata": {},
     "output_type": "execute_result"
    }
   ],
   "source": [
    "desc = pd.DataFrame(analysis_fraud_df[\"description\"].value_counts()[:5])\n",
    "desc"
   ]
  },
  {
   "cell_type": "code",
   "execution_count": null,
   "id": "c881c4cf",
   "metadata": {},
   "outputs": [],
   "source": []
  },
  {
   "cell_type": "code",
   "execution_count": null,
   "id": "5abbc6a9",
   "metadata": {},
   "outputs": [],
   "source": []
  },
  {
   "cell_type": "code",
   "execution_count": null,
   "id": "b4270830",
   "metadata": {},
   "outputs": [],
   "source": []
  },
  {
   "cell_type": "code",
   "execution_count": null,
   "id": "46dafd72",
   "metadata": {},
   "outputs": [],
   "source": []
  },
  {
   "cell_type": "code",
   "execution_count": null,
   "id": "69f4e724",
   "metadata": {},
   "outputs": [],
   "source": []
  },
  {
   "cell_type": "code",
   "execution_count": null,
   "id": "642cd533",
   "metadata": {},
   "outputs": [],
   "source": []
  },
  {
   "cell_type": "markdown",
   "id": "96b6c426",
   "metadata": {
    "papermill": {
     "duration": 0.009417,
     "end_time": "2024-11-13T14:32:34.760774",
     "exception": false,
     "start_time": "2024-11-13T14:32:34.751357",
     "status": "completed"
    },
    "tags": []
   },
   "source": [
    "## Fraud Labels Analysis"
   ]
  },
  {
   "cell_type": "code",
   "execution_count": 13,
   "id": "20ead24e",
   "metadata": {
    "execution": {
     "iopub.execute_input": "2024-11-13T14:33:30.378921Z",
     "iopub.status.busy": "2024-11-13T14:33:30.378490Z",
     "iopub.status.idle": "2024-11-13T14:33:30.859691Z",
     "shell.execute_reply": "2024-11-13T14:33:30.858580Z"
    },
    "papermill": {
     "duration": 0.495799,
     "end_time": "2024-11-13T14:33:30.862656",
     "exception": false,
     "start_time": "2024-11-13T14:33:30.366857",
     "status": "completed"
    },
    "tags": []
   },
   "outputs": [
    {
     "data": {
      "image/png": "[encoded data removed]",
      "text/plain": [
       "<Figure size 2000x1000 with 3 Axes>"
      ]
     },
     "metadata": {},
     "output_type": "display_data"
    }
   ],
   "source": [
    "# What is the proportion of fraudulent transactions compared to the non-fraudulent transactions? \n",
    "\n",
    "# How were the fraudulent transactions committed?\n",
    "\n",
    "\n",
    "\n",
    "fig, (ax1, ax2, ax3) = plt.subplots(1, 3, figsize=(20, 10))\n",
    "\n",
    "e = (0.05, 0.05, 0.05)\n",
    "\n",
    "\n",
    "\n",
    "ax1.pie([8901631, 13332], labels=[\"Fraud Target: No\", \"Fraud Target: Yes\"], autopct='%1.1f%%', explode=(0.05, 0.05))\n",
    "\n",
    "ax1.set_title(\"Proportion of Frauds\")\n",
    "\n",
    "\n",
    "\n",
    "labels = \"Chip Transaction\", \"Swipe Transaction\", \"Online Transaction\" \n",
    "\n",
    "nums = [3199600, 4666835, 1035196]\n",
    "\n",
    "ax2.pie(nums, labels=labels, autopct='%1.1f%%', explode=e)\n",
    "\n",
    "ax2.set_title(\"Fraud Target: No\")\n",
    "\n",
    "\n",
    "\n",
    "nums = [3176, 1137, 8779]\n",
    "\n",
    "ax3.pie(nums, labels=labels, explode=e, autopct='%1.1f%%')\n",
    "\n",
    "ax3.set_title(\"Fraud Target: Yes\")\n",
    "\n",
    "\n",
    "\n",
    "plt.subplots_adjust(wspace=0.5)"
   ]
  },
  {
   "cell_type": "code",
   "execution_count": 14,
   "id": "cdd6205f",
   "metadata": {
    "execution": {
     "iopub.execute_input": "2024-11-13T14:33:30.887053Z",
     "iopub.status.busy": "2024-11-13T14:33:30.886644Z",
     "iopub.status.idle": "2024-11-13T14:33:31.244093Z",
     "shell.execute_reply": "2024-11-13T14:33:31.242810Z"
    },
    "papermill": {
     "duration": 0.372683,
     "end_time": "2024-11-13T14:33:31.246768",
     "exception": false,
     "start_time": "2024-11-13T14:33:30.874085",
     "status": "completed"
    },
    "tags": []
   },
   "outputs": [
    {
     "data": {
      "image/png": "[encoded data removed]",
      "text/plain": [
       "<Figure size 1500x600 with 2 Axes>"
      ]
     },
     "metadata": {},
     "output_type": "display_data"
    }
   ],
   "source": [
    "# What types of cards were used to cause fraudulent activities?\n",
    "\n",
    "\n",
    "\n",
    "fig, (ax1, ax2) = plt.subplots(1, 2, figsize=(15, 6))\n",
    "\n",
    "\n",
    "\n",
    "labels = tuple(temp_yes[\"card_type\"].value_counts().keys())\n",
    "\n",
    "nums = temp_yes[\"card_type\"].value_counts().values\n",
    "\n",
    "ax1.pie(nums, labels=labels, autopct='%1.1f%%', explode=e)\n",
    "\n",
    "ax1.set_title(\"Fraud Card Type\")\n",
    "\n",
    "\n",
    "\n",
    "labels = tuple(temp_yes[\"card_brand\"].value_counts().keys())\n",
    "\n",
    "nums = temp_yes[\"card_brand\"].value_counts().values\n",
    "\n",
    "ax2.pie(nums, labels=labels, autopct='%1.1f%%', explode=(0.05, 0.05, 0.05, 0.05))\n",
    "\n",
    "ax2.set_title(\"Fraud Card Brand\")\n",
    "\n",
    "\n",
    "\n",
    "plt.subplots_adjust(wspace=0.4)"
   ]
  },
  {
   "cell_type": "code",
   "execution_count": 15,
   "id": "e0c570fe",
   "metadata": {
    "execution": {
     "iopub.execute_input": "2024-11-13T14:33:31.273039Z",
     "iopub.status.busy": "2024-11-13T14:33:31.272640Z",
     "iopub.status.idle": "2024-11-13T14:33:31.879473Z",
     "shell.execute_reply": "2024-11-13T14:33:31.878320Z"
    },
    "papermill": {
     "duration": 0.623027,
     "end_time": "2024-11-13T14:33:31.882193",
     "exception": false,
     "start_time": "2024-11-13T14:33:31.259166",
     "status": "completed"
    },
    "tags": []
   },
   "outputs": [
    {
     "data": {
      "image/png": "[encoded data removed]",
      "text/plain": [
       "<Figure size 1500x1500 with 2 Axes>"
      ]
     },
     "metadata": {},
     "output_type": "display_data"
    }
   ],
   "source": [
    "# What were the cards spent on?\n",
    "\n",
    "\n",
    "\n",
    "keys = temp_yes[\"description\"].value_counts().keys().to_list()[:5]\n",
    "\n",
    "values = temp_yes[\"description\"].value_counts().values.tolist()[:5]\n",
    "\n",
    "\n",
    "\n",
    "some_dict = {\"name\": keys, \"number\": values}\n",
    "\n",
    "\n",
    "\n",
    "fig, (ax1, ax2) = plt.subplots(2, 1, figsize=(15, 15))\n",
    "\n",
    "bar = ax1.bar(some_dict[\"name\"], some_dict[\"number\"], color= [\"peachpuff\", \"khaki\",\"skyblue\",\"plum\",\"orchid\"], linewidth=0.75, edgecolor=\"black\")\n",
    "\n",
    "ax1.set_title(\"MCC Fraudsters Spent on\")\n",
    "\n",
    "ax1.set_xlabel(\"MCC\")\n",
    "\n",
    "ax1.set_ylabel(\"Counts\")\n",
    "\n",
    "ax1.bar_label(bar, label_type=\"center\")\n",
    "\n",
    "\n",
    "\n",
    "ax2.hist(temp_yes[\"amount\"], edgecolor=\"black\", linewidth=0.5, bins=20)\n",
    "\n",
    "ax2.set_title(\"How Much was Spent Regardless of What Was Spent on\")\n",
    "\n",
    "ax2.set_xlabel(\"Amount\")\n",
    "\n",
    "ax2.set_ylabel(\"Count\")\n",
    "\n",
    "plt.show()"
   ]
  },
  {
   "cell_type": "code",
   "execution_count": 16,
   "id": "c8e821fc",
   "metadata": {
    "execution": {
     "iopub.execute_input": "2024-11-13T14:33:31.911056Z",
     "iopub.status.busy": "2024-11-13T14:33:31.910633Z",
     "iopub.status.idle": "2024-11-13T14:33:31.930540Z",
     "shell.execute_reply": "2024-11-13T14:33:31.929457Z"
    },
    "papermill": {
     "duration": 0.037409,
     "end_time": "2024-11-13T14:33:31.933354",
     "exception": false,
     "start_time": "2024-11-13T14:33:31.895945",
     "status": "completed"
    },
    "tags": []
   },
   "outputs": [
    {
     "data": {
      "text/html": [
       "<div>\n",
       "<style scoped>\n",
       "    .dataframe tbody tr th:only-of-type {\n",
       "        vertical-align: middle;\n",
       "    }\n",
       "\n",
       "    .dataframe tbody tr th {\n",
       "        vertical-align: top;\n",
       "    }\n",
       "\n",
       "    .dataframe thead th {\n",
       "        text-align: right;\n",
       "    }\n",
       "</style>\n",
       "<table border=\"1\" class=\"dataframe\">\n",
       "  <thead>\n",
       "    <tr style=\"text-align: right;\">\n",
       "      <th></th>\n",
       "      <th>transaction_id</th>\n",
       "      <th>date</th>\n",
       "      <th>client_id</th>\n",
       "      <th>card_id</th>\n",
       "      <th>amount</th>\n",
       "      <th>use_chip</th>\n",
       "      <th>merchant_id</th>\n",
       "      <th>merchant_city</th>\n",
       "      <th>merchant_state</th>\n",
       "      <th>zip</th>\n",
       "      <th>mcc</th>\n",
       "      <th>errors</th>\n",
       "      <th>target</th>\n",
       "      <th>card_brand</th>\n",
       "      <th>card_type</th>\n",
       "      <th>description</th>\n",
       "    </tr>\n",
       "  </thead>\n",
       "  <tbody>\n",
       "    <tr>\n",
       "      <th>186889</th>\n",
       "      <td>7808164</td>\n",
       "      <td>2010-03-26 07:00:00</td>\n",
       "      <td>1142</td>\n",
       "      <td>4674</td>\n",
       "      <td>4980.0</td>\n",
       "      <td>Online Transaction</td>\n",
       "      <td>9026</td>\n",
       "      <td>ONLINE</td>\n",
       "      <td>NaN</td>\n",
       "      <td>NaN</td>\n",
       "      <td>4411</td>\n",
       "      <td>NaN</td>\n",
       "      <td>Yes</td>\n",
       "      <td>Mastercard</td>\n",
       "      <td>Debit</td>\n",
       "      <td>Cruise Lines</td>\n",
       "    </tr>\n",
       "  </tbody>\n",
       "</table>\n",
       "</div>"
      ],
      "text/plain": [
       "        transaction_id                 date  client_id  card_id  amount            use_chip  merchant_id merchant_city merchant_state  zip   mcc errors target  card_brand card_type   description\n",
       "186889         7808164  2010-03-26 07:00:00       1142     4674  4980.0  Online Transaction         9026        ONLINE            NaN  NaN  4411    NaN    Yes  Mastercard     Debit  Cruise Lines"
      ]
     },
     "execution_count": 16,
     "metadata": {},
     "output_type": "execute_result"
    }
   ],
   "source": [
    "temp_yes[temp_yes[\"amount\"] == temp_yes[\"amount\"].max()]"
   ]
  },
  {
   "cell_type": "code",
   "execution_count": 17,
   "id": "50a57026",
   "metadata": {
    "execution": {
     "iopub.execute_input": "2024-11-13T14:33:31.962458Z",
     "iopub.status.busy": "2024-11-13T14:33:31.962009Z",
     "iopub.status.idle": "2024-11-13T14:33:35.107777Z",
     "shell.execute_reply": "2024-11-13T14:33:35.106423Z"
    },
    "papermill": {
     "duration": 3.163666,
     "end_time": "2024-11-13T14:33:35.110632",
     "exception": false,
     "start_time": "2024-11-13T14:33:31.946966",
     "status": "completed"
    },
    "tags": []
   },
   "outputs": [],
   "source": [
    "# Whose cards are these?\n",
    "\n",
    "\n",
    "\n",
    "df_who_fraud = pd.DataFrame()\n",
    "\n",
    "\n",
    "\n",
    "for client_id in temp_yes[\"client_id\"].unique():\n",
    "\n",
    "    df_who_fraud = pd.concat([df_who_fraud, table_2.xs(client_id, level=\"client_id\")], axis=0)\n",
    "\n",
    "\n",
    "\n",
    "test_2 = df_who_fraud.reset_index()[[\"gender\", \"current_age\", \"address\", \"num_cards\", \"credit_score\", \"card_type\"]].drop_duplicates()"
   ]
  },
  {
   "cell_type": "code",
   "execution_count": 18,
   "id": "94873e79",
   "metadata": {
    "execution": {
     "iopub.execute_input": "2024-11-13T14:33:35.139815Z",
     "iopub.status.busy": "2024-11-13T14:33:35.139403Z",
     "iopub.status.idle": "2024-11-13T14:33:35.912948Z",
     "shell.execute_reply": "2024-11-13T14:33:35.911704Z"
    },
    "papermill": {
     "duration": 0.791716,
     "end_time": "2024-11-13T14:33:35.915951",
     "exception": false,
     "start_time": "2024-11-13T14:33:35.124235",
     "status": "completed"
    },
    "tags": []
   },
   "outputs": [
    {
     "data": {
      "text/plain": [
       "Text(0, 0.5, 'Count')"
      ]
     },
     "execution_count": 18,
     "metadata": {},
     "output_type": "execute_result"
    },
    {
     "data": {
      "image/png": "[encoded data removed]",
      "text/plain": [
       "<Figure size 1800x600 with 3 Axes>"
      ]
     },
     "metadata": {},
     "output_type": "display_data"
    }
   ],
   "source": [
    "fig, (ax1, ax2, ax3) = plt.subplots(1, 3, figsize=(18, 6))\n",
    "\n",
    "\n",
    "\n",
    "labels = tuple(test_2[\"gender\"].value_counts().keys())\n",
    "\n",
    "nums = test_2[\"gender\"].value_counts().values\n",
    "\n",
    "ax1.pie(nums, labels=labels, autopct='%1.1f%%', explode=(0.05, 0.05))\n",
    "\n",
    "ax1.set_title(\"Gender Count who Frauded\")\n",
    "\n",
    "\n",
    "\n",
    "ax2.hist(test_2[\"current_age\"], bins=15, edgecolor=\"black\", linewidth=0.5)\n",
    "\n",
    "ax2.set_title(\"Age Distribution of Frauds\")\n",
    "\n",
    "ax2.set_xlabel(\"Age\")\n",
    "\n",
    "ax2.set_ylabel(\"Count\")\n",
    "\n",
    "\n",
    "\n",
    "ax3.hist(test_2[\"credit_score\"], bins=15, edgecolor=\"black\", linewidth=0.5)\n",
    "\n",
    "ax3.set_title(\"Credit Score of Frauds\")\n",
    "\n",
    "ax3.set_xlabel(\"Credit Score\")\n",
    "\n",
    "ax3.set_ylabel(\"Count\")"
   ]
  },
  {
   "cell_type": "code",
   "execution_count": 19,
   "id": "ec45eaf8",
   "metadata": {
    "execution": {
     "iopub.execute_input": "2024-11-13T14:33:35.947238Z",
     "iopub.status.busy": "2024-11-13T14:33:35.946833Z",
     "iopub.status.idle": "2024-11-13T14:33:36.258114Z",
     "shell.execute_reply": "2024-11-13T14:33:36.257009Z"
    },
    "papermill": {
     "duration": 0.329618,
     "end_time": "2024-11-13T14:33:36.260695",
     "exception": false,
     "start_time": "2024-11-13T14:33:35.931077",
     "status": "completed"
    },
    "tags": []
   },
   "outputs": [
    {
     "data": {
      "image/png": "[encoded data removed]",
      "text/plain": [
       "<Figure size 640x480 with 1 Axes>"
      ]
     },
     "metadata": {},
     "output_type": "display_data"
    }
   ],
   "source": [
    "plt.hist(df_who_fraud[\"amount\"], bins=25, edgecolor=\"black\", linewidth=0.5)\n",
    "\n",
    "plt.show()"
   ]
  },
  {
   "cell_type": "code",
   "execution_count": 20,
   "id": "3951b881",
   "metadata": {
    "execution": {
     "iopub.execute_input": "2024-11-13T14:33:36.293302Z",
     "iopub.status.busy": "2024-11-13T14:33:36.292848Z",
     "iopub.status.idle": "2024-11-13T14:33:36.325940Z",
     "shell.execute_reply": "2024-11-13T14:33:36.324794Z"
    },
    "papermill": {
     "duration": 0.052932,
     "end_time": "2024-11-13T14:33:36.328849",
     "exception": false,
     "start_time": "2024-11-13T14:33:36.275917",
     "status": "completed"
    },
    "tags": []
   },
   "outputs": [
    {
     "data": {
      "text/html": [
       "<div>\n",
       "<style scoped>\n",
       "    .dataframe tbody tr th:only-of-type {\n",
       "        vertical-align: middle;\n",
       "    }\n",
       "\n",
       "    .dataframe tbody tr th {\n",
       "        vertical-align: top;\n",
       "    }\n",
       "\n",
       "    .dataframe thead th {\n",
       "        text-align: right;\n",
       "    }\n",
       "</style>\n",
       "<table border=\"1\" class=\"dataframe\">\n",
       "  <thead>\n",
       "    <tr style=\"text-align: right;\">\n",
       "      <th></th>\n",
       "      <th></th>\n",
       "      <th></th>\n",
       "      <th></th>\n",
       "      <th></th>\n",
       "      <th></th>\n",
       "      <th></th>\n",
       "      <th></th>\n",
       "      <th></th>\n",
       "      <th></th>\n",
       "      <th></th>\n",
       "      <th></th>\n",
       "      <th></th>\n",
       "      <th></th>\n",
       "      <th></th>\n",
       "      <th>amount</th>\n",
       "    </tr>\n",
       "    <tr>\n",
       "      <th>gender</th>\n",
       "      <th>current_age</th>\n",
       "      <th>address</th>\n",
       "      <th>num_cards</th>\n",
       "      <th>credit_score</th>\n",
       "      <th>per_capita_income</th>\n",
       "      <th>yearly_income</th>\n",
       "      <th>total_debt</th>\n",
       "      <th>card_type</th>\n",
       "      <th>card_number</th>\n",
       "      <th>card_id</th>\n",
       "      <th>card_brand</th>\n",
       "      <th>cvv</th>\n",
       "      <th>acct_open_date</th>\n",
       "      <th>expires</th>\n",
       "      <th></th>\n",
       "    </tr>\n",
       "  </thead>\n",
       "  <tbody>\n",
       "    <tr>\n",
       "      <th>Male</th>\n",
       "      <th>35</th>\n",
       "      <th>583 Seventh Street</th>\n",
       "      <th>1</th>\n",
       "      <th>642</th>\n",
       "      <th>50579.0</th>\n",
       "      <th>103126.0</th>\n",
       "      <th>130160.0</th>\n",
       "      <th>Credit</th>\n",
       "      <th>4000393241453107</th>\n",
       "      <th>4993</th>\n",
       "      <th>Visa</th>\n",
       "      <th>408</th>\n",
       "      <th>10-2003</th>\n",
       "      <th>10-2021</th>\n",
       "      <td>1.032708e+06</td>\n",
       "    </tr>\n",
       "    <tr>\n",
       "      <th>Female</th>\n",
       "      <th>63</th>\n",
       "      <th>4461 Hill Street</th>\n",
       "      <th>1</th>\n",
       "      <th>606</th>\n",
       "      <th>26339.0</th>\n",
       "      <th>53702.0</th>\n",
       "      <th>85160.0</th>\n",
       "      <th>Debit</th>\n",
       "      <th>5412731781518758</th>\n",
       "      <th>2408</th>\n",
       "      <th>Mastercard</th>\n",
       "      <th>599</th>\n",
       "      <th>04-2000</th>\n",
       "      <th>05-2018</th>\n",
       "      <td>1.181416e+06</td>\n",
       "    </tr>\n",
       "    <tr>\n",
       "      <th>Male</th>\n",
       "      <th>51</th>\n",
       "      <th>207 Ocean View Street</th>\n",
       "      <th>1</th>\n",
       "      <th>505</th>\n",
       "      <th>53790.0</th>\n",
       "      <th>109673.0</th>\n",
       "      <th>242379.0</th>\n",
       "      <th>Debit</th>\n",
       "      <th>5809446324429038</th>\n",
       "      <th>3239</th>\n",
       "      <th>Mastercard</th>\n",
       "      <th>480</th>\n",
       "      <th>06-2002</th>\n",
       "      <th>09-2020</th>\n",
       "      <td>1.590821e+06</td>\n",
       "    </tr>\n",
       "    <tr>\n",
       "      <th>Female</th>\n",
       "      <th>31</th>\n",
       "      <th>95410 Pine Boulevard</th>\n",
       "      <th>2</th>\n",
       "      <th>721</th>\n",
       "      <th>47408.0</th>\n",
       "      <th>96661.0</th>\n",
       "      <th>73401.0</th>\n",
       "      <th>Credit</th>\n",
       "      <th>4892840339331137</th>\n",
       "      <th>1195</th>\n",
       "      <th>Visa</th>\n",
       "      <th>127</th>\n",
       "      <th>02-2009</th>\n",
       "      <th>07-2024</th>\n",
       "      <td>1.086473e+06</td>\n",
       "    </tr>\n",
       "    <tr>\n",
       "      <th>Male</th>\n",
       "      <th>51</th>\n",
       "      <th>2003 Ninth Avenue</th>\n",
       "      <th>1</th>\n",
       "      <th>632</th>\n",
       "      <th>39495.0</th>\n",
       "      <th>80526.0</th>\n",
       "      <th>117380.0</th>\n",
       "      <th>Credit</th>\n",
       "      <th>6369515530338470</th>\n",
       "      <th>3130</th>\n",
       "      <th>Discover</th>\n",
       "      <th>852</th>\n",
       "      <th>05-2013</th>\n",
       "      <th>10-2024</th>\n",
       "      <td>1.004969e+06</td>\n",
       "    </tr>\n",
       "    <tr>\n",
       "      <th>Female</th>\n",
       "      <th>51</th>\n",
       "      <th>6840 North Lane</th>\n",
       "      <th>6</th>\n",
       "      <th>840</th>\n",
       "      <th>55274.0</th>\n",
       "      <th>112695.0</th>\n",
       "      <th>35135.0</th>\n",
       "      <th>Credit</th>\n",
       "      <th>364780102699868</th>\n",
       "      <th>2168</th>\n",
       "      <th>Amex</th>\n",
       "      <th>611</th>\n",
       "      <th>03-2008</th>\n",
       "      <th>12-2022</th>\n",
       "      <td>1.067734e+06</td>\n",
       "    </tr>\n",
       "    <tr>\n",
       "      <th rowspan=\"2\" valign=\"top\">Male</th>\n",
       "      <th rowspan=\"2\" valign=\"top\">34</th>\n",
       "      <th>927 River Street</th>\n",
       "      <th>2</th>\n",
       "      <th>745</th>\n",
       "      <th>15758.0</th>\n",
       "      <th>32126.0</th>\n",
       "      <th>54351.0</th>\n",
       "      <th>Debit</th>\n",
       "      <th>5304434448477779</th>\n",
       "      <th>5413</th>\n",
       "      <th>Mastercard</th>\n",
       "      <th>266</th>\n",
       "      <th>11-2004</th>\n",
       "      <th>12-2022</th>\n",
       "      <td>1.007283e+06</td>\n",
       "    </tr>\n",
       "    <tr>\n",
       "      <th>95266 Bayview Drive</th>\n",
       "      <th>3</th>\n",
       "      <th>694</th>\n",
       "      <th>52813.0</th>\n",
       "      <th>107683.0</th>\n",
       "      <th>225017.0</th>\n",
       "      <th>Debit</th>\n",
       "      <th>5803563077451662</th>\n",
       "      <th>5146</th>\n",
       "      <th>Mastercard</th>\n",
       "      <th>827</th>\n",
       "      <th>10-2009</th>\n",
       "      <th>11-2020</th>\n",
       "      <td>1.141463e+06</td>\n",
       "    </tr>\n",
       "    <tr>\n",
       "      <th>Female</th>\n",
       "      <th>52</th>\n",
       "      <th>25622 Lake Street</th>\n",
       "      <th>1</th>\n",
       "      <th>683</th>\n",
       "      <th>36253.0</th>\n",
       "      <th>73920.0</th>\n",
       "      <th>166395.0</th>\n",
       "      <th>Debit</th>\n",
       "      <th>5686575699244488</th>\n",
       "      <th>2530</th>\n",
       "      <th>Mastercard</th>\n",
       "      <th>666</th>\n",
       "      <th>04-2007</th>\n",
       "      <th>12-2024</th>\n",
       "      <td>1.037404e+06</td>\n",
       "    </tr>\n",
       "    <tr>\n",
       "      <th rowspan=\"5\" valign=\"top\">Male</th>\n",
       "      <th>47</th>\n",
       "      <th>130 Lincoln Drive</th>\n",
       "      <th>3</th>\n",
       "      <th>693</th>\n",
       "      <th>21156.0</th>\n",
       "      <th>43133.0</th>\n",
       "      <th>44263.0</th>\n",
       "      <th>Credit</th>\n",
       "      <th>357731604070533</th>\n",
       "      <th>4938</th>\n",
       "      <th>Amex</th>\n",
       "      <th>270</th>\n",
       "      <th>10-1999</th>\n",
       "      <th>05-2020</th>\n",
       "      <td>1.019402e+06</td>\n",
       "    </tr>\n",
       "    <tr>\n",
       "      <th>58</th>\n",
       "      <th>8996 Third Street</th>\n",
       "      <th>2</th>\n",
       "      <th>503</th>\n",
       "      <th>40694.0</th>\n",
       "      <th>82974.0</th>\n",
       "      <th>181429.0</th>\n",
       "      <th>Credit</th>\n",
       "      <th>4333340134035074</th>\n",
       "      <th>3530</th>\n",
       "      <th>Visa</th>\n",
       "      <th>27</th>\n",
       "      <th>06-2011</th>\n",
       "      <th>03-2024</th>\n",
       "      <td>1.009838e+06</td>\n",
       "    </tr>\n",
       "    <tr>\n",
       "      <th>30</th>\n",
       "      <th>323 Eighth Drive</th>\n",
       "      <th>3</th>\n",
       "      <th>734</th>\n",
       "      <th>33151.0</th>\n",
       "      <th>67589.0</th>\n",
       "      <th>0.0</th>\n",
       "      <th>Debit</th>\n",
       "      <th>4817071694522158</th>\n",
       "      <th>1247</th>\n",
       "      <th>Visa</th>\n",
       "      <th>185</th>\n",
       "      <th>02-2010</th>\n",
       "      <th>06-2020</th>\n",
       "      <td>1.013482e+06</td>\n",
       "    </tr>\n",
       "    <tr>\n",
       "      <th>36</th>\n",
       "      <th>2352 Bayview Boulevard</th>\n",
       "      <th>1</th>\n",
       "      <th>850</th>\n",
       "      <th>33078.0</th>\n",
       "      <th>67444.0</th>\n",
       "      <th>93513.0</th>\n",
       "      <th>Credit</th>\n",
       "      <th>352397360356465</th>\n",
       "      <th>3233</th>\n",
       "      <th>Amex</th>\n",
       "      <th>465</th>\n",
       "      <th>06-2002</th>\n",
       "      <th>08-2022</th>\n",
       "      <td>1.882899e+06</td>\n",
       "    </tr>\n",
       "    <tr>\n",
       "      <th>33</th>\n",
       "      <th>632 Pine Drive</th>\n",
       "      <th>2</th>\n",
       "      <th>739</th>\n",
       "      <th>27474.0</th>\n",
       "      <th>56018.0</th>\n",
       "      <th>100163.0</th>\n",
       "      <th>Credit</th>\n",
       "      <th>4274011202694035</th>\n",
       "      <th>3450</th>\n",
       "      <th>Visa</th>\n",
       "      <th>289</th>\n",
       "      <th>06-2009</th>\n",
       "      <th>06-2022</th>\n",
       "      <td>1.297804e+06</td>\n",
       "    </tr>\n",
       "  </tbody>\n",
       "</table>\n",
       "</div>"
      ],
      "text/plain": [
       "                                                                                                                                                                                            amount\n",
       "gender current_age address                num_cards credit_score per_capita_income yearly_income total_debt card_type card_number      card_id card_brand cvv acct_open_date expires              \n",
       "Male   35          583 Seventh Street     1         642          50579.0           103126.0      130160.0   Credit    4000393241453107 4993    Visa       408 10-2003        10-2021  1.032708e+06\n",
       "Female 63          4461 Hill Street       1         606          26339.0           53702.0       85160.0    Debit     5412731781518758 2408    Mastercard 599 04-2000        05-2018  1.181416e+06\n",
       "Male   51          207 Ocean View Street  1         505          53790.0           109673.0      242379.0   Debit     5809446324429038 3239    Mastercard 480 06-2002        09-2020  1.590821e+06\n",
       "Female 31          95410 Pine Boulevard   2         721          47408.0           96661.0       73401.0    Credit    4892840339331137 1195    Visa       127 02-2009        07-2024  1.086473e+06\n",
       "Male   51          2003 Ninth Avenue      1         632          39495.0           80526.0       117380.0   Credit    6369515530338470 3130    Discover   852 05-2013        10-2024  1.004969e+06\n",
       "Female 51          6840 North Lane        6         840          55274.0           112695.0      35135.0    Credit    364780102699868  2168    Amex       611 03-2008        12-2022  1.067734e+06\n",
       "Male   34          927 River Street       2         745          15758.0           32126.0       54351.0    Debit     5304434448477779 5413    Mastercard 266 11-2004        12-2022  1.007283e+06\n",
       "                   95266 Bayview Drive    3         694          52813.0           107683.0      225017.0   Debit     5803563077451662 5146    Mastercard 827 10-2009        11-2020  1.141463e+06\n",
       "Female 52          25622 Lake Street      1         683          36253.0           73920.0       166395.0   Debit     5686575699244488 2530    Mastercard 666 04-2007        12-2024  1.037404e+06\n",
       "Male   47          130 Lincoln Drive      3         693          21156.0           43133.0       44263.0    Credit    357731604070533  4938    Amex       270 10-1999        05-2020  1.019402e+06\n",
       "       58          8996 Third Street      2         503          40694.0           82974.0       181429.0   Credit    4333340134035074 3530    Visa       27  06-2011        03-2024  1.009838e+06\n",
       "       30          323 Eighth Drive       3         734          33151.0           67589.0       0.0        Debit     4817071694522158 1247    Visa       185 02-2010        06-2020  1.013482e+06\n",
       "       36          2352 Bayview Boulevard 1         850          33078.0           67444.0       93513.0    Credit    352397360356465  3233    Amex       465 06-2002        08-2022  1.882899e+06\n",
       "       33          632 Pine Drive         2         739          27474.0           56018.0       100163.0   Credit    4274011202694035 3450    Visa       289 06-2009        06-2022  1.297804e+06"
      ]
     },
     "execution_count": 20,
     "metadata": {},
     "output_type": "execute_result"
    }
   ],
   "source": [
    "# Who has spent at least $1 000 000???\n",
    "\n",
    "df_who_fraud[df_who_fraud[\"amount\"] >= 1000000]"
   ]
  },
  {
   "cell_type": "markdown",
   "id": "d463bd7c",
   "metadata": {
    "papermill": {
     "duration": 0.015109,
     "end_time": "2024-11-13T14:33:36.359766",
     "exception": false,
     "start_time": "2024-11-13T14:33:36.344657",
     "status": "completed"
    },
    "tags": []
   },
   "source": [
    "# Analysis Summary"
   ]
  },
  {
   "cell_type": "markdown",
   "id": "56adcb10",
   "metadata": {
    "papermill": {
     "duration": 0.015133,
     "end_time": "2024-11-13T14:33:36.390327",
     "exception": false,
     "start_time": "2024-11-13T14:33:36.375194",
     "status": "completed"
    },
    "tags": []
   },
   "source": [
    "The number of fraudulent cases were very small. It can be seen that the number of transaction methods differ between those who did not commit fraud and those who did. Those who did not commit fraud performed few online transactions while many of those who did performed online transations. A lot of the card types used were Debit cards with some number of Credit cards. Mastercards and Visa cards were also used.\n",
    "\n",
    "\n",
    "\n",
    "Many was spent on Department Stores, and the amount of money spent, regardless of what was spent on, were mainly items that were cheap. It is unclear what the deficit means at this time. It seems that most expensive item bought was from a Cruise Lines MCC, presumably a ticket for a cruise. Merchant ID is provided but the state and name are not provided as it was purchased online.\n",
    "\n",
    "\n",
    "\n",
    "It also seems that those who are between 40 and 60 years old are the perpetrators of fraudulent transactions. It may be a possibility that their cards were stolen. The people who committed fraudulent transactions have been narrowed down by amount spent at leat $1 000 000, because the highest amount spent is more than $1 800 000. "
   ]
  }
 ],
 "metadata": {
  "kaggle": {
   "accelerator": "none",
   "dataSources": [
    {
     "datasetId": 5988050,
     "sourceId": 9775239,
     "sourceType": "datasetVersion"
    }
   ],
   "dockerImageVersionId": 30786,
   "isGpuEnabled": false,
   "isInternetEnabled": true,
   "language": "python",
   "sourceType": "notebook"
  },
  "kernelspec": {
   "display_name": ".venv",
   "language": "python",
   "name": "python3"
  },
  "language_info": {
   "codemirror_mode": {
    "name": "ipython",
    "version": 3
   },
   "file_extension": ".py",
   "mimetype": "text/x-python",
   "name": "python",
   "nbconvert_exporter": "python",
   "pygments_lexer": "ipython3",
   "version": "3.10.16"
  },
  "papermill": {
   "default_parameters": {},
   "duration": 138.281928,
   "end_time": "2024-11-13T14:33:39.126739",
   "environment_variables": {},
   "exception": null,
   "input_path": "__notebook__.ipynb",
   "output_path": "__notebook__.ipynb",
   "parameters": {},
   "start_time": "2024-11-13T14:31:20.844811",
   "version": "2.6.0"
  }
 },
 "nbformat": 4,
 "nbformat_minor": 5
}
